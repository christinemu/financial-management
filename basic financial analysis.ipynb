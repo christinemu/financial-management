{
 "cells": [
  {
   "cell_type": "markdown",
   "metadata": {
    "slideshow": {
     "slide_type": "slide"
    }
   },
   "source": [
    "# 财务表现分析"
   ]
  },
  {
   "cell_type": "markdown",
   "metadata": {
    "slideshow": {
     "slide_type": "fragment"
    }
   },
   "source": [
    "- 偿债能力分析\n",
    "- 营运能力分析\n",
    "- 盈利能力分析\n",
    "- 发展能力分析\n",
    "- 杜邦分析法"
   ]
  },
  {
   "cell_type": "markdown",
   "metadata": {
    "slideshow": {
     "slide_type": "slide"
    }
   },
   "source": [
    "## 偿债能力分析"
   ]
  },
  {
   "cell_type": "markdown",
   "metadata": {
    "slideshow": {
     "slide_type": "fragment"
    }
   },
   "source": [
    "偿债能力是指企业偿还到期债务本息的能力。"
   ]
  },
  {
   "cell_type": "markdown",
   "metadata": {
    "slideshow": {
     "slide_type": "slide"
    }
   },
   "source": [
    "### 流动比率"
   ]
  },
  {
   "cell_type": "markdown",
   "metadata": {
    "slideshow": {
     "slide_type": "fragment"
    }
   },
   "source": [
    "$$流动比率 = \\frac{流动资产}{流动负债}$$"
   ]
  },
  {
   "cell_type": "markdown",
   "metadata": {
    "slideshow": {
     "slide_type": "fragment"
    }
   },
   "source": [
    "- 流动资产包括货币资金、短期投资、应收票据、应收账款和存货等\n",
    "- 流动负债包括短期借款、应付账款、应付票据、应付工资、应付福利费、应交税金、应付股利、应付利息、预收账款、预提费用、其他应付款、其他应交税款\n",
    "- 衡量企业短期偿债能力\n",
    "- 流动比率越高，短期偿债能力越强"
   ]
  },
  {
   "cell_type": "markdown",
   "metadata": {
    "slideshow": {
     "slide_type": "slide"
    }
   },
   "source": [
    "### 速动比率"
   ]
  },
  {
   "cell_type": "markdown",
   "metadata": {
    "slideshow": {
     "slide_type": "fragment"
    }
   },
   "source": [
    "$$速动比率 = \\frac{流动资产-存货}{流动负债}$$"
   ]
  },
  {
   "cell_type": "markdown",
   "metadata": {
    "slideshow": {
     "slide_type": "fragment"
    }
   },
   "source": [
    "- 衡量企业短期偿债能力\n",
    "- 速动比率越高，短期偿债能力越强\n",
    "- 等于1左右\n",
    "- 注意：反映会计期末状况，不代表长期财务状况"
   ]
  },
  {
   "cell_type": "markdown",
   "metadata": {
    "slideshow": {
     "slide_type": "slide"
    }
   },
   "source": [
    "### 现金到期债务比"
   ]
  },
  {
   "cell_type": "markdown",
   "metadata": {
    "slideshow": {
     "slide_type": "fragment"
    }
   },
   "source": [
    "$$现金到期债务比 = \\frac{经营现金流量}{本期到期长期负债+本期应付票据}$$"
   ]
  },
  {
   "cell_type": "markdown",
   "metadata": {
    "slideshow": {
     "slide_type": "fragment"
    }
   },
   "source": [
    "- 比率越高，短期偿债能力越强"
   ]
  },
  {
   "cell_type": "markdown",
   "metadata": {
    "slideshow": {
     "slide_type": "slide"
    }
   },
   "source": [
    "### 营业现金流量与债务总额比"
   ]
  },
  {
   "cell_type": "markdown",
   "metadata": {
    "slideshow": {
     "slide_type": "fragment"
    }
   },
   "source": [
    "$$营业现金流量与债务总额比 = \\frac{经营现金流量}{债务总额}$$"
   ]
  },
  {
   "cell_type": "markdown",
   "metadata": {
    "slideshow": {
     "slide_type": "slide"
    }
   },
   "source": [
    "### 债务比率"
   ]
  },
  {
   "cell_type": "markdown",
   "metadata": {
    "slideshow": {
     "slide_type": "fragment"
    }
   },
   "source": [
    "$$债务比率 = \\frac{负债总额}{资产总额}$$"
   ]
  },
  {
   "cell_type": "markdown",
   "metadata": {
    "slideshow": {
     "slide_type": "fragment"
    }
   },
   "source": [
    "- 债务比率越小，表明企业长期偿债能力越强\n",
    "- 我国《公司法》规定，上市公司负债比率不得高于70%。"
   ]
  },
  {
   "cell_type": "markdown",
   "metadata": {
    "slideshow": {
     "slide_type": "slide"
    }
   },
   "source": [
    "### 利息保障倍数"
   ]
  },
  {
   "cell_type": "markdown",
   "metadata": {
    "slideshow": {
     "slide_type": "fragment"
    }
   },
   "source": [
    "$$利息保障倍数 = \\frac{EBIT}{利息费用}$$"
   ]
  },
  {
   "cell_type": "markdown",
   "metadata": {
    "slideshow": {
     "slide_type": "fragment"
    }
   },
   "source": [
    "- 长期偿债能力\n",
    "- 美国食品加工企业10，工程类企业4"
   ]
  },
  {
   "cell_type": "markdown",
   "metadata": {
    "slideshow": {
     "slide_type": "slide"
    }
   },
   "source": [
    "## 营运能力分析"
   ]
  },
  {
   "cell_type": "markdown",
   "metadata": {
    "slideshow": {
     "slide_type": "fragment"
    }
   },
   "source": [
    "营运能力指企业充分利用现有资源创造社会财富的能力。"
   ]
  },
  {
   "cell_type": "markdown",
   "metadata": {
    "slideshow": {
     "slide_type": "slide"
    }
   },
   "source": [
    "### 应收账款周转率"
   ]
  },
  {
   "cell_type": "markdown",
   "metadata": {
    "slideshow": {
     "slide_type": "fragment"
    }
   },
   "source": [
    "应收账款，是企业因赊销商品或提供劳务而形成的应收未收的款项。"
   ]
  },
  {
   "cell_type": "markdown",
   "metadata": {
    "slideshow": {
     "slide_type": "fragment"
    }
   },
   "source": [
    "- 经过一段时间之后才能收回，存在资金占用成本；\n",
    "- 应收账款有不能收回而成为坏账的风险。"
   ]
  },
  {
   "cell_type": "markdown",
   "metadata": {
    "slideshow": {
     "slide_type": "fragment"
    }
   },
   "source": [
    "$$应收账款周转率 = \\frac{销售净收入}{平均应收账款总额}$$\n",
    "\n",
    "销售净收入指扣除销售折让、销售退回之后的销售收入。或已经收到货款的销售收入和尚未收到货款但已经确认的销售收入（赊销）"
   ]
  },
  {
   "cell_type": "markdown",
   "metadata": {
    "slideshow": {
     "slide_type": "fragment"
    }
   },
   "source": [
    "$$应收账款周转天数 = \\frac{365}{应收账款周转率}$$"
   ]
  },
  {
   "cell_type": "markdown",
   "metadata": {
    "slideshow": {
     "slide_type": "slide"
    }
   },
   "source": [
    "### 存货周转率"
   ]
  },
  {
   "cell_type": "markdown",
   "metadata": {
    "slideshow": {
     "slide_type": "fragment"
    }
   },
   "source": [
    "$$存货周转率 = \\frac{营业成本}{平均存货余额}$$\n",
    "\n",
    "$$存货周转天数 = \\frac{365}{存货周转率}$$"
   ]
  },
  {
   "cell_type": "markdown",
   "metadata": {
    "slideshow": {
     "slide_type": "slide"
    }
   },
   "source": [
    "### 流动资产周转率"
   ]
  },
  {
   "cell_type": "markdown",
   "metadata": {
    "slideshow": {
     "slide_type": "fragment"
    }
   },
   "source": [
    "$$流动资产周转率 = \\frac{营业收入（或销售收入）}{流动资产平均总额}$$\n",
    "\n",
    "销售收入一般指主营业务收入，营业收入=主营业务收入+其他业务收入"
   ]
  },
  {
   "cell_type": "markdown",
   "metadata": {
    "slideshow": {
     "slide_type": "slide"
    }
   },
   "source": [
    "### 固定资产周转率"
   ]
  },
  {
   "cell_type": "markdown",
   "metadata": {
    "slideshow": {
     "slide_type": "fragment"
    }
   },
   "source": [
    "$$固定资产周转率 = \\frac{营业收入（或销售收入）}{固定资产平均净值}$$\n",
    "\n",
    "此处销售收入、销售净收入不做区分"
   ]
  },
  {
   "cell_type": "markdown",
   "metadata": {
    "slideshow": {
     "slide_type": "slide"
    }
   },
   "source": [
    "### 总资产周转率"
   ]
  },
  {
   "cell_type": "markdown",
   "metadata": {
    "slideshow": {
     "slide_type": "fragment"
    }
   },
   "source": [
    "$$总资产周转率 = \\frac{营业收入（或销售收入）}{资产平均净值}$$"
   ]
  },
  {
   "cell_type": "markdown",
   "metadata": {
    "slideshow": {
     "slide_type": "slide"
    }
   },
   "source": [
    "## 盈利能力分析"
   ]
  },
  {
   "cell_type": "markdown",
   "metadata": {},
   "source": [
    "盈利能力指企业获取利润的能力。"
   ]
  },
  {
   "cell_type": "markdown",
   "metadata": {
    "slideshow": {
     "slide_type": "slide"
    }
   },
   "source": [
    "### 销售毛利率"
   ]
  },
  {
   "cell_type": "markdown",
   "metadata": {
    "slideshow": {
     "slide_type": "fragment"
    }
   },
   "source": [
    "$$销售毛利率 = \\frac{销售毛利}{销售净收入}$$\n",
    "\n",
    "销售毛利 = 销售净收入 - 销售成本\n",
    "\n",
    "销售净收入指扣除销售折让、销售退回之后的销售收入。"
   ]
  },
  {
   "cell_type": "markdown",
   "metadata": {
    "slideshow": {
     "slide_type": "fragment"
    }
   },
   "source": [
    "- 销售毛利率表示每一元销售收入扣除销售成本后，还有多少钱可以用于各项期间费用和形成盈利。\n",
    "- 不同行业企业，销售毛利率差异较大。"
   ]
  },
  {
   "cell_type": "markdown",
   "metadata": {
    "slideshow": {
     "slide_type": "slide"
    }
   },
   "source": [
    "### 营业利润率"
   ]
  },
  {
   "cell_type": "markdown",
   "metadata": {
    "slideshow": {
     "slide_type": "fragment"
    }
   },
   "source": [
    "$$营业利润率 = \\frac{营业利润}{销售净收入+其他业务收入}$$\n",
    "\n",
    "- 营业利润=主营业务收入-主营业务成本-主营业务税金及附加＋其他业务收入-其他业务支出- 资产减值损失+投资收益 - 营业（销售）费用-管理费用-财务费用\n",
    "\n",
    "- 利润总额=营业利润+补贴收入＋营业外收入-营业外支出\n",
    "- 净利润=利润总额-所得税"
   ]
  },
  {
   "cell_type": "markdown",
   "metadata": {
    "slideshow": {
     "slide_type": "slide"
    }
   },
   "source": [
    "### 总资产报酬率"
   ]
  },
  {
   "cell_type": "markdown",
   "metadata": {
    "slideshow": {
     "slide_type": "fragment"
    }
   },
   "source": [
    "$$总资产报酬率 = \\frac{EBIT}{平均资产总额}$$\n",
    "\n",
    "$$平均资产总额  = \\frac{期初资产总额 + 期末资产总额}{2}$$"
   ]
  },
  {
   "cell_type": "markdown",
   "metadata": {
    "slideshow": {
     "slide_type": "fragment"
    }
   },
   "source": [
    "- 指标越高，表明资产的利用效果较好，利用资产创造的利润越多。"
   ]
  },
  {
   "cell_type": "markdown",
   "metadata": {
    "slideshow": {
     "slide_type": "slide"
    }
   },
   "source": [
    "### 资产保值增值率"
   ]
  },
  {
   "cell_type": "markdown",
   "metadata": {
    "slideshow": {
     "slide_type": "fragment"
    }
   },
   "source": [
    "$$资产保值增值率 = \\frac{年末所有者权益}{年初所有者权益}$$"
   ]
  },
  {
   "cell_type": "markdown",
   "metadata": {
    "slideshow": {
     "slide_type": "slide"
    }
   },
   "source": [
    "### 净资产收益率"
   ]
  },
  {
   "cell_type": "markdown",
   "metadata": {
    "slideshow": {
     "slide_type": "fragment"
    }
   },
   "source": [
    "$$净资产收益率 = \\frac{净利润（NI）}{平均净资产}$$\n",
    "\n",
    "$$平均净资产  = \\frac{期初所有者权益 + 期末所有者权益}{2}$$"
   ]
  },
  {
   "cell_type": "markdown",
   "metadata": {
    "slideshow": {
     "slide_type": "slide"
    }
   },
   "source": [
    "### 权益报酬率"
   ]
  },
  {
   "cell_type": "markdown",
   "metadata": {
    "slideshow": {
     "slide_type": "fragment"
    }
   },
   "source": [
    "$$权益收益率 = \\frac{净利润（NI）}{年度股本平均额}$$\n",
    "\n",
    "$$年度股本平均额 = 年初股本 + 新增普通股股本 \\times \\frac{新增普通股时间（月）}{12}$$"
   ]
  },
  {
   "cell_type": "markdown",
   "metadata": {
    "slideshow": {
     "slide_type": "slide"
    }
   },
   "source": [
    "### 每股收益（EPS）"
   ]
  },
  {
   "cell_type": "markdown",
   "metadata": {
    "slideshow": {
     "slide_type": "fragment"
    }
   },
   "source": [
    "- 或每股盈余\n",
    "\n",
    "$$每股收益 = \\frac{净利润（NI）}{年度平均股数}$$\n",
    "\n",
    "$$年度平均股数 = 年初股数 + 新增普通股股数 \\times \\frac{新增普通股时间（月）}{12}$$"
   ]
  },
  {
   "cell_type": "markdown",
   "metadata": {
    "slideshow": {
     "slide_type": "slide"
    }
   },
   "source": [
    "### 市盈率"
   ]
  },
  {
   "cell_type": "markdown",
   "metadata": {
    "slideshow": {
     "slide_type": "fragment"
    }
   },
   "source": [
    "$$市盈率 = \\frac{每股股价}{每股收益}$$"
   ]
  },
  {
   "cell_type": "markdown",
   "metadata": {
    "slideshow": {
     "slide_type": "slide"
    }
   },
   "source": [
    "### 每股净资产"
   ]
  },
  {
   "cell_type": "markdown",
   "metadata": {
    "slideshow": {
     "slide_type": "fragment"
    }
   },
   "source": [
    "$$每股净资产 = \\frac{期末净资产总额}{期末普通股股数}$$"
   ]
  },
  {
   "cell_type": "markdown",
   "metadata": {
    "slideshow": {
     "slide_type": "slide"
    }
   },
   "source": [
    "## 发展能力分析"
   ]
  },
  {
   "cell_type": "markdown",
   "metadata": {
    "slideshow": {
     "slide_type": "fragment"
    }
   },
   "source": [
    "企业扩大规模、壮大实力的潜在能力。"
   ]
  },
  {
   "cell_type": "markdown",
   "metadata": {
    "slideshow": {
     "slide_type": "fragment"
    }
   },
   "source": [
    "- 销售收入增长率\n",
    "- 资本积累率\n",
    "- 总资产增长率\n",
    "- 营业利润增长率"
   ]
  },
  {
   "attachments": {},
   "cell_type": "markdown",
   "metadata": {
    "slideshow": {
     "slide_type": "slide"
    }
   },
   "source": [
    "$$销售收入增长率 = \\frac{本年销售收入总额-上年销售收入总额}{上年销售收入总额}$$"
   ]
  },
  {
   "cell_type": "markdown",
   "metadata": {
    "slideshow": {
     "slide_type": "fragment"
    }
   },
   "source": [
    "$$三年销售收入平均增长率 = \\sqrt[3]{\\frac{本年末销售收入总额}{三年前年末销售收入总额}}-1$$"
   ]
  },
  {
   "cell_type": "markdown",
   "metadata": {
    "slideshow": {
     "slide_type": "slide"
    }
   },
   "source": [
    "$$资本积累率 = \\frac{本年所有者权益增长额}{年初所有者权益}$$"
   ]
  },
  {
   "cell_type": "markdown",
   "metadata": {
    "slideshow": {
     "slide_type": "fragment"
    }
   },
   "source": [
    "$$三年平均资本积累率 = \\sqrt[3]{\\frac{本年末所有者权益总额}{三年前年末所有者权益总额}}-1$$"
   ]
  },
  {
   "cell_type": "markdown",
   "metadata": {
    "slideshow": {
     "slide_type": "slide"
    }
   },
   "source": [
    "$$总资产增长率 = \\frac{本年总资产增长额}{年初资产总额}$$"
   ]
  },
  {
   "cell_type": "markdown",
   "metadata": {
    "slideshow": {
     "slide_type": "fragment"
    }
   },
   "source": [
    "$$三年平均资产增长率 = \\sqrt[3]{\\frac{本年末资产总额}{三年前年末资产总额}}-1$$"
   ]
  },
  {
   "cell_type": "markdown",
   "metadata": {
    "slideshow": {
     "slide_type": "slide"
    }
   },
   "source": [
    "$$营业利润增长率 = \\frac{本年营业利润增长额}{上年营业利润总额}$$"
   ]
  },
  {
   "cell_type": "markdown",
   "metadata": {
    "slideshow": {
     "slide_type": "fragment"
    }
   },
   "source": [
    "$$三年营业利润平均增长率 = \\sqrt[3]{\\frac{本年末营业利润总额}{三年前年末营业利润总额}}-1$$"
   ]
  },
  {
   "cell_type": "markdown",
   "metadata": {
    "slideshow": {
     "slide_type": "slide"
    }
   },
   "source": [
    "## 杜邦分析法"
   ]
  },
  {
   "cell_type": "markdown",
   "metadata": {
    "slideshow": {
     "slide_type": "slide"
    }
   },
   "source": [
    "<img src='dupong.jpg' width=100%>"
   ]
  },
  {
   "cell_type": "markdown",
   "metadata": {
    "slideshow": {
     "slide_type": "slide"
    }
   },
   "source": [
    "以2001-2002年北汽福田汽车（600166）为例。"
   ]
  },
  {
   "cell_type": "markdown",
   "metadata": {
    "slideshow": {
     "slide_type": "fragment"
    }
   },
   "source": [
    "单位：万元\n",
    "\n",
    "年度|净利润|销售收入|资产总额|负债总额|全部成本\n",
    "--|--|--|--|--|--\n",
    "2001|10284|411224|306222|205677|403967\n",
    "2002|12653|757613|330580|215659|736747"
   ]
  },
  {
   "cell_type": "markdown",
   "metadata": {
    "slideshow": {
     "slide_type": "slide"
    }
   },
   "source": [
    "年度|2001|2002\n",
    "--|--|--\n",
    "权益净利率|0.102|0.112\n",
    "权益乘数|3.049|2.874\n",
    "资产负债率|0.672|0.652\n",
    "资产净利率|0.034|0.039\n",
    "销售净利率|0.025|0.017\n",
    "资产周转率|1.43|2.29\n"
   ]
  },
  {
   "cell_type": "markdown",
   "metadata": {
    "slideshow": {
     "slide_type": "slide"
    }
   },
   "source": [
    "# 营运资金管理"
   ]
  },
  {
   "cell_type": "markdown",
   "metadata": {
    "slideshow": {
     "slide_type": "fragment"
    }
   },
   "source": [
    "营运资金（Working Capital， 或营运资本）， 指企业生产经营活动中的流动资产，包括现金、有价证券、应收账款、存货等。"
   ]
  },
  {
   "cell_type": "markdown",
   "metadata": {
    "slideshow": {
     "slide_type": "slide"
    }
   },
   "source": [
    "## 现金管理"
   ]
  },
  {
   "cell_type": "markdown",
   "metadata": {
    "slideshow": {
     "slide_type": "fragment"
    }
   },
   "source": [
    "现金，指企业库存现金、可以随时用于支付的存款，和其他货币资金(如外埠存款、银行汇票存款、银行本票存款)等。\n",
    "- 不能随时用于支付的存款不属于现金。"
   ]
  },
  {
   "cell_type": "markdown",
   "metadata": {
    "slideshow": {
     "slide_type": "slide"
    }
   },
   "source": [
    "企业持有现金的目的\n",
    "- 交易\n",
    "- 预防\n",
    "- 投资"
   ]
  },
  {
   "cell_type": "markdown",
   "metadata": {
    "slideshow": {
     "slide_type": "fragment"
    }
   },
   "source": [
    "现金的成本\n",
    "- 持有成本，即机会成本\n",
    "- 短缺成本\n",
    "- 转换成本，买卖有价证券的手续费"
   ]
  },
  {
   "cell_type": "markdown",
   "metadata": {
    "slideshow": {
     "slide_type": "slide"
    }
   },
   "source": [
    "## 存货"
   ]
  },
  {
   "cell_type": "markdown",
   "metadata": {
    "slideshow": {
     "slide_type": "fragment"
    }
   },
   "source": [
    "### EOQ（Economic Order Quantity）模型"
   ]
  },
  {
   "cell_type": "markdown",
   "metadata": {
    "slideshow": {
     "slide_type": "fragment"
    }
   },
   "source": [
    "基本假设：\n",
    "- 订货没有提前期，即企业下达订单后，存货立刻得到补充\n",
    "- 不允许缺货\n",
    "- 需求稳定且能被准确预测"
   ]
  },
  {
   "cell_type": "markdown",
   "metadata": {
    "slideshow": {
     "slide_type": "slide"
    }
   },
   "source": [
    "- 持有成本Holding costs (per unit, per year)，包括仓储成本、机会成本"
   ]
  },
  {
   "cell_type": "markdown",
   "metadata": {
    "slideshow": {
     "slide_type": "fragment"
    }
   },
   "source": [
    "H：每年每单位产品的持有成本\n",
    "\n",
    "Q: 每次订货量（决策变量）\n",
    "\n",
    "每年平均持有成本 $= \\frac{Q\\times H}{2}$"
   ]
  },
  {
   "cell_type": "markdown",
   "metadata": {
    "slideshow": {
     "slide_type": "fragment"
    }
   },
   "source": [
    "- 订货成本S，Order cost (per purchase order)"
   ]
  },
  {
   "cell_type": "markdown",
   "metadata": {
    "slideshow": {
     "slide_type": "fragment"
    }
   },
   "source": [
    "D = 全年需求量\n",
    "\n",
    "订货次数 $= \\frac{D}{Q}$\n",
    "\n",
    "每年订货成本 $= \\frac{D\\times S}{Q}$"
   ]
  },
  {
   "cell_type": "markdown",
   "metadata": {
    "slideshow": {
     "slide_type": "slide"
    }
   },
   "source": [
    "总成本 $ = \\frac{Q\\times H}{2}+\\frac{D\\times S}{Q}$"
   ]
  },
  {
   "cell_type": "markdown",
   "metadata": {
    "slideshow": {
     "slide_type": "fragment"
    }
   },
   "source": [
    "<img src='EOQ.png'>\t"
   ]
  },
  {
   "cell_type": "markdown",
   "metadata": {
    "slideshow": {
     "slide_type": "slide"
    }
   },
   "source": [
    "$Q^* = \\sqrt{\\frac{2DS}{H}}$"
   ]
  },
  {
   "cell_type": "markdown",
   "metadata": {
    "slideshow": {
     "slide_type": "fragment"
    }
   },
   "source": [
    "$TC = \\sqrt{2DSH}$"
   ]
  },
  {
   "cell_type": "markdown",
   "metadata": {
    "slideshow": {
     "slide_type": "fragment"
    }
   },
   "source": [
    "【例8-8 p250】M公司全年需要A材料2400吨，每订货一次的订货成本为600元，每吨年存储成本为8元，求经济订货批量及存货总成本。"
   ]
  },
  {
   "cell_type": "markdown",
   "metadata": {
    "slideshow": {
     "slide_type": "fragment"
    }
   },
   "source": [
    "$Q^* = \\sqrt{\\frac{2\\times 2400 \\times 600}{8}} = 600(吨)$"
   ]
  },
  {
   "cell_type": "markdown",
   "metadata": {
    "slideshow": {
     "slide_type": "fragment"
    }
   },
   "source": [
    "$TC = \\sqrt{2\\times 2400 \\times 600 \\times 8} = 4800 (元)$"
   ]
  },
  {
   "cell_type": "markdown",
   "metadata": {
    "slideshow": {
     "slide_type": "slide"
    }
   },
   "source": [
    "### 再订货点"
   ]
  },
  {
   "cell_type": "markdown",
   "metadata": {
    "slideshow": {
     "slide_type": "fragment"
    }
   },
   "source": [
    "再订货点，即订购下一批产品时的库存量。在EOQ模型基础上引入订货提前期（lead time）。"
   ]
  },
  {
   "cell_type": "markdown",
   "metadata": {
    "slideshow": {
     "slide_type": "fragment"
    }
   },
   "source": [
    "【例 8-9 p250】M公司的经济订货批量为600吨，一年订货4次，假设交货时间为1个月，每月平均耗用量为200吨，求再订货点。"
   ]
  },
  {
   "cell_type": "markdown",
   "metadata": {
    "slideshow": {
     "slide_type": "fragment"
    }
   },
   "source": [
    "再订货点 $= 1(个月) \\times 200(吨) = 200 (吨)$"
   ]
  },
  {
   "cell_type": "markdown",
   "metadata": {
    "slideshow": {
     "slide_type": "slide"
    }
   },
   "source": [
    "### 缺货成本"
   ]
  },
  {
   "cell_type": "markdown",
   "metadata": {
    "slideshow": {
     "slide_type": "fragment"
    }
   },
   "source": [
    "缺货成本是由于无法满足下游的需求而产生的损失。"
   ]
  },
  {
   "cell_type": "markdown",
   "metadata": {
    "slideshow": {
     "slide_type": "fragment"
    }
   },
   "source": [
    "如果发生外部缺货，将导致以下情况的发生：\n",
    "- 延期交货（backlog）,在下次库存得到补充后优先满足。\n",
    "- 失销。一些用户会转向其他替代品的供应商，最好情况是损失了产品的利润。\n",
    "- 商誉。"
   ]
  }
 ],
 "metadata": {
  "celltoolbar": "Slideshow",
  "hide_input": false,
  "kernelspec": {
   "display_name": "Python 3",
   "language": "python",
   "name": "python3"
  },
  "language_info": {
   "codemirror_mode": {
    "name": "ipython",
    "version": 3
   },
   "file_extension": ".py",
   "mimetype": "text/x-python",
   "name": "python",
   "nbconvert_exporter": "python",
   "pygments_lexer": "ipython3",
   "version": "3.6.8"
  },
  "toc": {
   "base_numbering": 1,
   "nav_menu": {},
   "number_sections": true,
   "sideBar": true,
   "skip_h1_title": false,
   "title_cell": "Table of Contents",
   "title_sidebar": "Contents",
   "toc_cell": false,
   "toc_position": {},
   "toc_section_display": true,
   "toc_window_display": false
  }
 },
 "nbformat": 4,
 "nbformat_minor": 4
}
