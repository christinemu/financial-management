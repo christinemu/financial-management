{
 "cells": [
  {
   "cell_type": "markdown",
   "metadata": {
    "slideshow": {
     "slide_type": "slide"
    }
   },
   "source": [
    "# 专题：集团公司资金集中管控 "
   ]
  },
  {
   "cell_type": "markdown",
   "metadata": {
    "slideshow": {
     "slide_type": "slide"
    }
   },
   "source": [
    "## 集团管控"
   ]
  },
  {
   "cell_type": "markdown",
   "metadata": {
    "slideshow": {
     "slide_type": "slide"
    }
   },
   "source": [
    "### 企业集团"
   ]
  },
  {
   "cell_type": "markdown",
   "metadata": {
    "slideshow": {
     "slide_type": "fragment"
    }
   },
   "source": [
    "- 是“以母公司为核心，通过产权纽带把多个企业联结在一起，形成母子公司关系的多法人的企业群体”。\n",
    "- 20世纪60年代\n",
    "- 企业集团是内部交易成本低于外部市场交易成本导致的产物（Williamson，1975）。\n",
    "- 不同于早期“大而全”的单一企业，而是借助于现代产权关系，通过横向多元化或者纵向产业链的兼并重组，以实现多个单一企业之间资源的优势互补，以及通过系统整合效应有效分散经营风险。"
   ]
  },
  {
   "cell_type": "markdown",
   "metadata": {
    "slideshow": {
     "slide_type": "fragment"
    }
   },
   "source": [
    "> 正是由于具有这样不可比拟的优势，企业集团在现代商业社会中迅速崛起，现代市场经济也逐渐转入了集团竞争的时代。"
   ]
  },
  {
   "cell_type": "markdown",
   "metadata": {
    "slideshow": {
     "slide_type": "slide"
    }
   },
   "source": [
    "### 集团管控"
   ]
  },
  {
   "cell_type": "markdown",
   "metadata": {
    "slideshow": {
     "slide_type": "fragment"
    }
   },
   "source": [
    "企业集团管控的困难"
   ]
  },
  {
   "cell_type": "markdown",
   "metadata": {
    "slideshow": {
     "slide_type": "fragment"
    }
   },
   "source": [
    "- 企业集团规模庞大。\n",
    "- 企业集团内部的关系错综复杂。"
   ]
  },
  {
   "cell_type": "markdown",
   "metadata": {
    "slideshow": {
     "slide_type": "slide"
    }
   },
   "source": [
    "### 集团管控模式"
   ]
  },
  {
   "cell_type": "markdown",
   "metadata": {
    "slideshow": {
     "slide_type": "fragment"
    }
   },
   "source": [
    "集团管控模式指的是对具体集团管控体系的定位与概括"
   ]
  },
  {
   "cell_type": "markdown",
   "metadata": {
    "slideshow": {
     "slide_type": "fragment"
    }
   },
   "source": [
    "- 要与集团的长期战略相适应，是长期战略与具体管控措施的连接桥梁，是保障集团战略有序落地的重要支撑。\n",
    "- 对集团管控基本管理方法的框架性概括，为企业集团指明了关键资源的分配准则。"
   ]
  },
  {
   "cell_type": "markdown",
   "metadata": {
    "slideshow": {
     "slide_type": "slide"
    }
   },
   "source": [
    "Goold和Campbell（1993a；1993b）最早在1987年提出了一个分类框架以研究集团母公司对子公司的管控问题。他们通过对当时16家英国大型企业管控模式的分析，归纳总结出三种管控模式，分别是战略规划管控（strategic planning control，也称为运营管控）、战略管控（strategic control）、财务管控（financial control）。\n"
   ]
  },
  {
   "cell_type": "markdown",
   "metadata": {
    "slideshow": {
     "slide_type": "fragment"
    }
   },
   "source": [
    "（1）运营管控。企业集团经营少数的几个核心业务，集团母公司积极参与到子公司经营层面的战略规划（business-level strategy）之中，以帮助这些子公司做出更好的经营战略决策，并且强调相关业务的协同发展。"
   ]
  },
  {
   "cell_type": "markdown",
   "metadata": {
    "slideshow": {
     "slide_type": "fragment"
    }
   },
   "source": [
    "（2）财务管控。企业集团将经营层面的战略决策权力下放给子公司，集团母公司的任务主要是批准子公司设定的短期财务目标，并且监督这些财务目标的完成情况。"
   ]
  },
  {
   "cell_type": "markdown",
   "metadata": {
    "slideshow": {
     "slide_type": "fragment"
    }
   },
   "source": [
    "（3）战略管控。企业集团将经营层面的战略决策权力下放给子公司，集团母公司强调控制子公司对经营目标的实现。但是与财务管控不同的是，该类型的企业集团还拥有战略规划系统和相应的流程，使得母公司可以审核和质疑子公司制定的经营层面的战略决策，并且监督子公司对这些决策的执行情况。"
   ]
  },
  {
   "cell_type": "markdown",
   "metadata": {
    "slideshow": {
     "slide_type": "slide"
    }
   },
   "source": [
    "<img src='enterprise control pattern.png'>"
   ]
  },
  {
   "cell_type": "markdown",
   "metadata": {
    "slideshow": {
     "slide_type": "slide"
    }
   },
   "source": [
    "<img src='enterprise control pattern_1.png'>"
   ]
  },
  {
   "cell_type": "markdown",
   "metadata": {
    "slideshow": {
     "slide_type": "slide"
    }
   },
   "source": [
    "## 资金集中管控"
   ]
  },
  {
   "cell_type": "markdown",
   "metadata": {
    "slideshow": {
     "slide_type": "fragment"
    }
   },
   "source": [
    "### 概念"
   ]
  },
  {
   "cell_type": "markdown",
   "metadata": {
    "slideshow": {
     "slide_type": "fragment"
    }
   },
   "source": [
    "- 指将整个集团的资金集中到集团母公司，由其统一调配、管理和应用。\n",
    "- 是达成集团母公司对子公司财务管控的重要手段之一。"
   ]
  },
  {
   "cell_type": "markdown",
   "metadata": {
    "slideshow": {
     "slide_type": "slide"
    }
   },
   "source": [
    "将资金的控制权和决策权集中在母公司，有利于\n",
    "\n",
    "- 母公司实时掌握子公司现金的流向达到对子公司经营行为的控制；\n",
    "- 母公司统揽全局，优化资金在各个经营板块的调配；\n",
    "- 集团盘活资金存量，加速资金流转；\n",
    "- 有利于增加集团的结算规模，提高集团的财务信誉等。"
   ]
  },
  {
   "cell_type": "markdown",
   "metadata": {
    "slideshow": {
     "slide_type": "fragment"
    }
   },
   "source": [
    "> 子公司是否愿意呢？"
   ]
  },
  {
   "cell_type": "markdown",
   "metadata": {
    "slideshow": {
     "slide_type": "slide"
    }
   },
   "source": [
    "### 资金集中管控启动准备中的困难"
   ]
  },
  {
   "cell_type": "markdown",
   "metadata": {
    "slideshow": {
     "slide_type": "fragment"
    }
   },
   "source": [
    "（一）来自于与银行关系的阻碍"
   ]
  },
  {
   "cell_type": "markdown",
   "metadata": {
    "slideshow": {
     "slide_type": "slide"
    }
   },
   "source": [
    "**银行的业务制度**——资金转账的交易费用"
   ]
  },
  {
   "cell_type": "markdown",
   "metadata": {
    "slideshow": {
     "slide_type": "fragment"
    }
   },
   "source": [
    "- 资金集中管控要求子公司将每天的资金流入向上归集到集团母公司账户，而在需要对外支付资金时由集团母公司账户下拨到子公司账户。\n",
    "- 国家计委、中国人民银行设立了银行结算业务、电子汇划的收费规定 ，因此商业银行都需要对转账业务收取一定的转账结算费用。\n"
   ]
  },
  {
   "cell_type": "markdown",
   "metadata": {
    "slideshow": {
     "slide_type": "fragment"
    }
   },
   "source": [
    "> 银行的转账结算费用制度会使得母子公司之间频繁的转账产生可观的交易费用，一定程度上抵消了资金集中管控的效益。"
   ]
  },
  {
   "cell_type": "markdown",
   "metadata": {
    "slideshow": {
     "slide_type": "slide"
    }
   },
   "source": [
    "**银行的绩效考评制度**——子公司与银行分支机构的关系"
   ]
  },
  {
   "cell_type": "markdown",
   "metadata": {
    "slideshow": {
     "slide_type": "fragment"
    }
   },
   "source": [
    "- 银行总行对分支机构考核的一个重要指标就是分支机构的日均各项存款量。\n",
    "- 由于许多大型集团的子公司资金流量较大，成为其所在地区的银行分支机构的重要客户，因此，这些分支机构有较大动力为子公司提供各种服务，例如上门取款、送款，取单、送单等。\n",
    "- 实行了资金集中管控，子公司的资金集中到集团账户中，这些分支机构就会由于没有存款量而丧失了对子公司的服务积极性。"
   ]
  },
  {
   "cell_type": "markdown",
   "metadata": {
    "slideshow": {
     "slide_type": "slide"
    }
   },
   "source": [
    "神华第一次推动资金集中管控，2001年，失败原因\n",
    "\n",
    "- 神华集团的子公司跨越二十多个省份，并且业务涉及到的资金规模较大，动辄百亿，如果每天上交下拨资金，合并起来的银行转帐交易费用本身就构成了一项相当可观的成本。\n",
    "- 部分银行提供了资金管控的服务。例如，工商银行在1998年，建设银行在2000年底相继推出了以大型企业集团、政府、金融机构等为服务对象的资金管理平台，此时尚不成熟。\n",
    "- 神华集团以煤炭开采为主业，很多子公司位于较为偏远的地域。当地一些银行分支机构甚至就是以服务这些子公司为目的而建立的。"
   ]
  },
  {
   "cell_type": "markdown",
   "metadata": {
    "slideshow": {
     "slide_type": "slide"
    }
   },
   "source": [
    "（二）来自于法律关系的障碍"
   ]
  },
  {
   "cell_type": "markdown",
   "metadata": {
    "slideshow": {
     "slide_type": "fragment"
    }
   },
   "source": [
    "法律关系建立于产权基础之上，子公司小股东对自身利益的维护"
   ]
  },
  {
   "cell_type": "markdown",
   "metadata": {
    "slideshow": {
     "slide_type": "slide"
    }
   },
   "source": [
    "- 目前的企业集团中，由集团独资的子公司是比较少见的，甚至在新的公司法颁布以前是根本没有的。虽然现在公司法允许一人独资公司的存在，但是多人公司仍然是构成子公司产权的主要形式。\n",
    "- 作为有控制权的大股东，集团母公司控制子公司的战略和运营无可厚非，但是集团要求将子公司的资金转移到母公司的做法在子公司的小股东看来就有可能产生“掏空”（Tunneling）行为，即大股东侵占小股东权益。\n",
    "- 子公司虽然受到集团母公司的控制，但是在法律关系上属于相互独立的法人，具有独立的对于自有资金的使用权和收益权。\n",
    "- 在子公司看来，资金被集团母公司集中管控之后，就有可能剥夺其对于资金的使用权和应该享有的收益权，导致子公司的运营效率降低，损害子公司的小股东的收益。"
   ]
  },
  {
   "cell_type": "markdown",
   "metadata": {
    "slideshow": {
     "slide_type": "slide"
    }
   },
   "source": [
    "神华集团第二次试图进行资金集中管控未能成功\n",
    "\n",
    "- 子公司提出资金集中管控会使得作为集团的大股东侵占子公司小股东的权益。\n",
    "\n",
    "- 神华集团子公司的小股东众多，例如国家部委、地方政府、其他央企等，这个群体的反对也是不容忽视的力量。"
   ]
  },
  {
   "cell_type": "markdown",
   "metadata": {
    "slideshow": {
     "slide_type": "slide"
    }
   },
   "source": [
    "（三）来自于管理关系的障碍"
   ]
  },
  {
   "cell_type": "markdown",
   "metadata": {
    "slideshow": {
     "slide_type": "fragment"
    }
   },
   "source": [
    "企业集团内部除了有基于产权而形成的母子公司关系，还有根据经营业务的分类或地域范围而形成的总分公司关系。"
   ]
  },
  {
   "cell_type": "markdown",
   "metadata": {
    "slideshow": {
     "slide_type": "slide"
    }
   },
   "source": [
    "分公司指的就是那些或者较为独立有自己的账户、核算体系、可计算盈亏可独立纳税，或者受母公司控制，不独立纳税的公司。\n",
    "\n",
    "- 《公司法》规定分公司不具有企业法人资格 ，因而直接受到总公司的行政管控。\n",
    "- 有些分公司具有管理其他子公司的职能，即管理类分公司。\n",
    "- 这些被管理的子公司在法律或股权关系上可能属于二级公司，但是在管理关系上却可能隶属于管理类分公司而成为三级或者四级公司。"
   ]
  },
  {
   "cell_type": "markdown",
   "metadata": {
    "slideshow": {
     "slide_type": "slide"
    }
   },
   "source": [
    "管理类分公司反对的原因\n",
    "\n",
    "- 对于资金的配置权是管理关系存在的基础。\n",
    "- 这些分公司存在的必要性也是不可否认的，因为集团或者涉及的行业领域较宽，或者覆盖的地域较广，很难对各个板块子公司进行全面的管理，因此，需要依赖这些分公司代母公司行使管理职能。"
   ]
  },
  {
   "cell_type": "markdown",
   "metadata": {
    "slideshow": {
     "slide_type": "slide"
    }
   },
   "source": [
    "神华集团是一个纵向一体化的模式，跨越了煤、电、路、港、航多个业务板块。以电力板块为例，截止2011年底，神华集团已投产火力发电厂48个 ，几乎每个电厂都是一个子公司，神华集团母公司由于资源所限，不可能直接管理这些众多的电厂，为此神华集团成立了一个分公司——国华电力"
   ]
  },
  {
   "cell_type": "markdown",
   "metadata": {
    "slideshow": {
     "slide_type": "slide"
    }
   },
   "source": [
    "（四）对资金集中使用能力的质疑"
   ]
  },
  {
   "cell_type": "markdown",
   "metadata": {
    "slideshow": {
     "slide_type": "fragment"
    }
   },
   "source": [
    "**关于资金使用效率问题**"
   ]
  },
  {
   "cell_type": "markdown",
   "metadata": {
    "slideshow": {
     "slide_type": "fragment"
    }
   },
   "source": [
    "- 子公司会认为自己更了解自身的经营状况，因此，将资金掌握在自己的控制之下，能够更加及时的将其投入到所需要应对的经营活动中。而如果资金掌握在集团母公司手中，在需要资金时审批的时间过长，流程过于复杂反而会降低资金在解决管理问题时的效率。\n",
    "- 另一方面，集团母公司强调的效率提升在于平衡集团内部的沉淀资金和贷款存量以降低资本成本，但是集团母公司管理资金的水平并不一定好于子公司的管理水平。子公司甚至可以获得更好的投资回报率和更低的融资成本。"
   ]
  },
  {
   "cell_type": "markdown",
   "metadata": {
    "slideshow": {
     "slide_type": "slide"
    }
   },
   "source": [
    "**关于资金的风险控制问题**"
   ]
  },
  {
   "cell_type": "markdown",
   "metadata": {
    "slideshow": {
     "slide_type": "fragment"
    }
   },
   "source": [
    "子公司认为自有资金的风险很大程度上在自己的控制能力之内，其他子公司可能出现的资金风险并不会危及到自身的正常运转。而一旦实施资金集中管控，集团的资金管理出现危机势必会殃及到所有的子公司，使得一损俱损，反而造成了风险的集中和放大。"
   ]
  },
  {
   "cell_type": "markdown",
   "metadata": {
    "slideshow": {
     "slide_type": "slide"
    }
   },
   "source": [
    "### 对策"
   ]
  },
  {
   "cell_type": "markdown",
   "metadata": {
    "slideshow": {
     "slide_type": "fragment"
    }
   },
   "source": [
    "（一）银行关系处理"
   ]
  },
  {
   "cell_type": "markdown",
   "metadata": {
    "slideshow": {
     "slide_type": "fragment"
    }
   },
   "source": [
    "银行逐渐认识到资金集中管控是企业集团管理手段的必然发展趋势\n",
    "\n",
    "- 减免这些大客户的转账结算费用\n",
    "    - 单笔汇划费用优惠\n",
    "    - 减免企业集团对资金管理平台的使用年费等\n",
    "- 银行的资金管理平台也愈发成熟，涵盖了诸如资金实时转划、对账处理、账户收支管理、账户余额管理、支付控制等功能"
   ]
  },
  {
   "cell_type": "markdown",
   "metadata": {
    "slideshow": {
     "slide_type": "slide"
    }
   },
   "source": [
    "关于子公司服务积极性问题\n",
    "\n",
    "- 总行可以考虑将由分支机构归集到集团集中账户的存款量按一定比例分配给归集账户所在分支机构，作为对其考核基础。\n",
    "- 集团母公司可以适当放松对子公司的归集账户资金余额的要求，从而在一定程度上弥补归集账户所在银行分支机构的利润损失。"
   ]
  },
  {
   "cell_type": "markdown",
   "metadata": {
    "slideshow": {
     "slide_type": "slide"
    }
   },
   "source": [
    "（二）法律关系处理"
   ]
  },
  {
   "cell_type": "markdown",
   "metadata": {
    "slideshow": {
     "slide_type": "fragment"
    }
   },
   "source": [
    "> 法律关系本质上反映的是利益关系，而利益问题可以利用经济手段予以解决。从表面上看子公司反对资金集中管控是强调自身的独立法人地位，但实质上背后原因是子公司希望拥有法人财产权，归根结底还是利益问题。"
   ]
  },
  {
   "cell_type": "markdown",
   "metadata": {
    "slideshow": {
     "slide_type": "slide"
    }
   },
   "source": [
    "- 《物权法》的出台为将法人财产权视作所有权给予了法律依据：企业法人对其不动产和动产依照法律、行政法规，以及章程享有占有、使用、收益和处分的权利 。\n",
    "- 对于持续经营的公司而言，使用和收益是两种最重要的权利。"
   ]
  },
  {
   "cell_type": "markdown",
   "metadata": {
    "slideshow": {
     "slide_type": "fragment"
    }
   },
   "source": [
    "因此，对法律关系的处理需要做到对这两种权利的配置影响降至最低，以消除子公司小股东对资金集中管控的疑虑。"
   ]
  },
  {
   "cell_type": "markdown",
   "metadata": {
    "slideshow": {
     "slide_type": "slide"
    }
   },
   "source": [
    "- 关于资金**使用权**需要集团母公司明确区分营运资金和冗余资金使用权两个概念。\n",
    "    - 营运资金指的是公司维持一般日常经营活动需要的资金。\n",
    "    - 冗余资金指的是公司在满足正常经营活动对资金的需求之后剩余的资金。\n",
    "- 集团母公司并不剥夺子公司对营运资金的使用权，而是掌握冗余资金的使用权，以平衡各个子公司的资本头寸，最小化集团内部的资本成本。由于营运资金的使用权仍然归各个子公司所有，因此，子公司的一般经营活动对资金的需求不会受到资金集中管控的影响。\n",
    "- 资金收益权的问题就蜕化为冗余资金的收益权问题。\n",
    "- 集团母公司要明确指出利用冗余资金产生的收益最终要回归子公司，丝毫不会剥夺子公司对于资金的收益权。"
   ]
  },
  {
   "cell_type": "markdown",
   "metadata": {
    "slideshow": {
     "slide_type": "fragment"
    }
   },
   "source": [
    "实际上，子公司的收益会增多。\n",
    "\n",
    "集团母公司以高于外部银行存款利率的水平集中各个子公司的存款，而以低于外部银行贷款利率的水平给各个子公司发放贷款。通过这样的做法，集团母公司将资金集中管控的额外收益重新分配给子公司，子公司可以利用比外部银行更优惠的利率存储和借贷资金。"
   ]
  },
  {
   "cell_type": "markdown",
   "metadata": {
    "slideshow": {
     "slide_type": "slide"
    }
   },
   "source": [
    "神华集团对子公司在资金上的**使用权**是通过营运资金拨付制度保障的。当子公司对营运资金有需求的时候向集团母公司提交资金拨付申请报告，集团母公司在审核批准后将资金拨付给子公司使用。"
   ]
  },
  {
   "cell_type": "markdown",
   "metadata": {
    "slideshow": {
     "slide_type": "slide"
    }
   },
   "source": [
    "效果"
   ]
  },
  {
   "cell_type": "markdown",
   "metadata": {
    "slideshow": {
     "slide_type": "fragment"
    }
   },
   "source": [
    "- 该方式在神华集团实行之后获得了显著的成效。\n",
    "- 神华下属的各个子公司都乐于将资金存储在集团母公司，\n",
    "- 且在年终总结的时候都会争相比较通过在集团母公司存储和借贷资金获得了多大的收益。"
   ]
  },
  {
   "cell_type": "markdown",
   "metadata": {
    "slideshow": {
     "slide_type": "slide"
    }
   },
   "source": [
    "（三）管理关系处理"
   ]
  },
  {
   "cell_type": "markdown",
   "metadata": {
    "slideshow": {
     "slide_type": "fragment"
    }
   },
   "source": [
    "来自管理关系的阻碍在于具有管理职能的分公司担忧随着自身对资金配置权力的丧失而丢失管理权力。\n",
    "\n",
    "为了消除该阻碍，集团母公司就必须考虑资金集中管控后为分公司资金配置权力的留置，从而避免将其架空。"
   ]
  },
  {
   "cell_type": "markdown",
   "metadata": {
    "slideshow": {
     "slide_type": "fragment"
    }
   },
   "source": [
    "体现资金配置权力的一个关键点就是资金下拨的主体是谁。\n",
    "\n",
    "- 于是，一个可行的做法是在拨付使用资金时，由管理类分公司向集团母公司按照预算计划提出申请，集团母公司将资金下拨到管理类分公司账户，由其酌情权衡再下拨给所辖子公司。\n",
    "- 通过这样的方式，分公司在一定程度上仍然保留在自己管理的子公司间分配资金的权力，从而也就会减弱分公司对管理权力被削弱的担忧。"
   ]
  },
  {
   "cell_type": "markdown",
   "metadata": {
    "slideshow": {
     "slide_type": "slide"
    }
   },
   "source": [
    "实施效果"
   ]
  },
  {
   "cell_type": "markdown",
   "metadata": {
    "slideshow": {
     "slide_type": "fragment"
    }
   },
   "source": [
    "例如国华电力公司作为管理类分公司，管理着神华集团下属大部分火力发电厂。\n",
    "\n",
    "- 实现资金集中管控后，在资金上收时候，所有电厂的资金先归集到国华分公司，再归集到集团的集中帐户；\n",
    "- 在拨付的时候，神华集团母公司也会根据国华分公司的申请，先将资金拨付给国华分公司，然后由国华分公司根据所管理的子公司的经营需要进行划拨。\n",
    "- 通过这样的策略，以国华电力为代表的分公司对资金的配置权力得到了相当程度的保留，消除了它们对神华集团进行资金集中管控的反对。"
   ]
  },
  {
   "cell_type": "markdown",
   "metadata": {
    "slideshow": {
     "slide_type": "slide"
    }
   },
   "source": [
    "（四）资金使用能力质疑处理"
   ]
  },
  {
   "cell_type": "markdown",
   "metadata": {
    "slideshow": {
     "slide_type": "fragment"
    }
   },
   "source": [
    "对集团母公司资金使用能力的质疑可以通过进一步明确资金集中管控的优势来消除。"
   ]
  },
  {
   "cell_type": "markdown",
   "metadata": {
    "slideshow": {
     "slide_type": "fragment"
    }
   },
   "source": [
    "资金使用效率\n",
    "\n",
    "- 在资金使用效率方面，集团母公司由于是站在全集团的视角，通过资金集中管控可以清晰观察到哪些下属公司资金富裕，哪些下属公司资金匮乏，从而可以通过集团内部的资金调动节省资金欠缺的下属公司向外部银行借款而产生的财务费用，实现聚合（pooling）的效果。\n",
    "- 集团母公司还可以将冗余的资金投入到对集团整体发展有利的项目中去，使这些冗余资金为集团创造更大的价值，而下属公司由于自身视角的局限，只能将冗余资金投入到价值层次有限的项目中，甚至造成冗余资金的闲置。"
   ]
  },
  {
   "cell_type": "markdown",
   "metadata": {
    "slideshow": {
     "slide_type": "slide"
    }
   },
   "source": [
    "资金风险控制\n",
    "\n",
    "- 集团母公司要对整个集团的经营成败负责，同时国有企业的高层管理者受托于国家，其个人收入受国家相关制度管控，往往他们由于企业经济损失而受到的处罚远大于从企业投资增长中获取的利益，因此，集团母公司没有动机将集中的资金进行较高风险的投资。而子公司的高层领导者经营责任相对较低，经营失误的惩罚也相对较轻，因此，其有一定的动机将资金进行风险投资以牟取高额利润。\n",
    "- 在将资金集中管控之后，有众多的下属子分公司在监视着集团母公司对资金的使用，因而，集团母公司也不具备条件进行危险系数较高的投资。\n",
    "- 当资金在子公司存放的时候，虽然理论上子公司受到母公司的控制，但是在实际中，母公司往往缺乏有效手段时时监控子公司的资金动向，甚至出现子公司管理者挪用资金牟取个人利益的现象。"
   ]
  },
  {
   "cell_type": "markdown",
   "metadata": {
    "slideshow": {
     "slide_type": "fragment"
    }
   },
   "source": [
    "> 尽管资金集中管控从理论上来看具有这样的优势，但是这些优势能否真正落到实处取决于集团母公司对资金集中使用的能力。"
   ]
  },
  {
   "cell_type": "markdown",
   "metadata": {
    "slideshow": {
     "slide_type": "slide"
    }
   },
   "source": [
    "- 集团母公司需要不断提升自身的资金管理水平，充分利用资金集中的规模优势为集团发展创造更多的价值，让集团上上下下切实感受到这些利益，才能够从根本上打消对集团母公司资金集中使用能力的疑虑。\n",
    "- 然而在资金集中管控实施之前，子公司对于母公司运作资金能力的质疑，是母公司面临的一个无可争辩和难以解答的难题。\n",
    "- 究其更深层次的原因，是子公司不愿意丧失自由支配资金的权力。\n"
   ]
  },
  {
   "cell_type": "markdown",
   "metadata": {
    "slideshow": {
     "slide_type": "fragment"
    }
   },
   "source": [
    "> 基于这样的考虑，集团母公司不应该将自己困在资金集中管控实施前事实上无解的矛盾问题的辩论中，而是应当配合战略引导、文化控制等手段以实现资金集中管控的顺利启动。"
   ]
  },
  {
   "cell_type": "markdown",
   "metadata": {
    "slideshow": {
     "slide_type": "slide"
    }
   },
   "source": [
    "神华做法"
   ]
  },
  {
   "cell_type": "markdown",
   "metadata": {
    "slideshow": {
     "slide_type": "fragment"
    }
   },
   "source": [
    "战略引导\n",
    "\n",
    "- 由于神华集团采取的是纵向一体化的发展战略，因此集团采用了以运营管控为主的管控模式，这是一种强管控的模式。财务管控模式要与集团管控模式相适应，因此，神华集团从战略上对集团下属公司进行了引导：既然集团上下都承认神华是一个以运营管控为主的管控模式，那么也就必须承认财务管控上实行强管控的手段，而资金集中管控就是这样一种行之有效的方式。\n",
    "- 神华集团目前还处于业务发展阶段，在资金集中之后，集团母公司由于处于的战略层次比下属公司更高，可以统筹全局将冗余资金应用在集团亟需发展壮大之处，充分支持集团的运营管控模式，而不是以在资本市场的投资为重点，因此资金集中以后的风险很低，对神华集团一体化的发展而言则至关重要。"
   ]
  },
  {
   "cell_type": "markdown",
   "metadata": {
    "slideshow": {
     "slide_type": "slide"
    }
   },
   "source": [
    "“特例特办”\n",
    "\n",
    "- 神华集团还采用“特例特办”的方式解决集团下属公司对资金紧急需求的效率问题。神华集团设置了详尽的资金拨付审批制度作为资金集中管控的重要组成部分，这样的做法一方面增强了资金集中管控的规范性，保证了资金的使用安全，但是另一方面却会减弱集团下属公司应对需要资金的突发事件的反应速度。\n",
    "- 为了资金集中管控后不失灵活性，神华集团专门设立了“绿色通道”，当集团下属公司对资金有紧急需求时，可以通过绿色通道简化审批手续及时获取资金。"
   ]
  }
 ],
 "metadata": {
  "celltoolbar": "Slideshow",
  "hide_input": false,
  "kernelspec": {
   "display_name": "Python 3",
   "language": "python",
   "name": "python3"
  },
  "language_info": {
   "codemirror_mode": {
    "name": "ipython",
    "version": 3
   },
   "file_extension": ".py",
   "mimetype": "text/x-python",
   "name": "python",
   "nbconvert_exporter": "python",
   "pygments_lexer": "ipython3",
   "version": "3.6.8"
  },
  "toc": {
   "base_numbering": 1,
   "nav_menu": {},
   "number_sections": true,
   "sideBar": true,
   "skip_h1_title": false,
   "title_cell": "Table of Contents",
   "title_sidebar": "Contents",
   "toc_cell": false,
   "toc_position": {},
   "toc_section_display": true,
   "toc_window_display": false
  }
 },
 "nbformat": 4,
 "nbformat_minor": 4
}
