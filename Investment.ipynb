{
 "cells": [
  {
   "cell_type": "markdown",
   "metadata": {
    "slideshow": {
     "slide_type": "slide"
    }
   },
   "source": [
    "# 第二章 投资"
   ]
  },
  {
   "cell_type": "markdown",
   "metadata": {
    "slideshow": {
     "slide_type": "fragment"
    }
   },
   "source": [
    "## 企业投资决策的重要性"
   ]
  },
  {
   "cell_type": "markdown",
   "metadata": {
    "slideshow": {
     "slide_type": "slide"
    }
   },
   "source": [
    "企业为什么要做投资决策？\n",
    "- 以应对经营风险，如多元化投资\n",
    "- 以提高产品质量，降低产品成本\n",
    "- 以维持或扩大经营规模\n",
    "- 以控制相关企业\n",
    "- 生产安全和环保方面"
   ]
  },
  {
   "cell_type": "markdown",
   "metadata": {
    "slideshow": {
     "slide_type": "fragment"
    }
   },
   "source": [
    "投资决策的重要性：\n",
    "- 实现财务管理目标、获取投资收益的方式\n",
    "- 投资活动是企业生产经营活动的起点，投资结果形成了企业的经营性资产。\n",
    "- 决定了筹资规模和方式"
   ]
  },
  {
   "cell_type": "markdown",
   "metadata": {
    "slideshow": {
     "slide_type": "slide"
    }
   },
   "source": [
    "项目投资的特点\n",
    "\n",
    "- 投资数额较大(资本预算)\n",
    "- 投资回收周期长\n",
    "- 投资风险大"
   ]
  },
  {
   "cell_type": "markdown",
   "metadata": {
    "slideshow": {
     "slide_type": "fragment"
    }
   },
   "source": [
    "\n",
    "内容安排\n",
    "\n",
    "- 资金的时间价值（与投资决策的输入变量有关）\n",
    "- 现金流量和利润的差异（与投资决策的输入变量有关）\n",
    "- 几种投资决策准则，即如何选择投资项目（将投资决策的输入转为输出）\n"
   ]
  },
  {
   "cell_type": "markdown",
   "metadata": {
    "slideshow": {
     "slide_type": "slide"
    }
   },
   "source": [
    "## 资金的时间价值"
   ]
  },
  {
   "cell_type": "markdown",
   "metadata": {
    "slideshow": {
     "slide_type": "slide"
    }
   },
   "source": [
    "\n",
    "举例：如果银行一年定期存款利率是2.5%，那么1万元一年后就是1.025万元，两年后就是1.0506万元。就是说按照2.5%的贴现率来计算，2年后1.0506万元，1年后的1.025万元，才等于今天的1万元。"
   ]
  },
  {
   "cell_type": "markdown",
   "metadata": {},
   "source": [
    "- 资金一旦用于投资，就不能用于即期消费。从消费者的角度来看，资金的时间价值体现为放弃即期消费的损失所应得到的补偿。\n",
    "- 随着时间的推移，资金的价值会增加，称为资金增值。从投资者的角度来看，资金的增值特性使其具有时间价值。\n",
    "- 本质是一种机会成本，不同的人有不同的机会成本\n",
    "- 计算的四要素\n",
    "    - 未来值F（ future value, 通常成为终值）\n",
    "    - 现在值P（present value，通常成为现值）\n",
    "    - 单位时间价值率i\n",
    "    - 时间期限n"
   ]
  },
  {
   "cell_type": "markdown",
   "metadata": {
    "slideshow": {
     "slide_type": "slide"
    }
   },
   "source": [
    "**终值和现值的计算方法**\n",
    "\n",
    "（1）单利\n",
    "\n",
    "某人持有一张**带息票据**，面额为2000元，票面利息为5%，出票日期为8月12日，到期日为11月10日（90日）。该持有者到期获得多少元？"
   ]
  },
  {
   "cell_type": "markdown",
   "metadata": {
    "slideshow": {
     "slide_type": "fragment"
    }
   },
   "source": [
    "$$利息 = 2000 \\times 5\\% \\times \\frac{90}{360} = 25（元）$$"
   ]
  },
  {
   "cell_type": "markdown",
   "metadata": {
    "slideshow": {
     "slide_type": "fragment"
    }
   },
   "source": [
    "$$ 终值（本利和）= 2000 +25 = 2025（元）$$"
   ]
  },
  {
   "cell_type": "markdown",
   "metadata": {
    "slideshow": {
     "slide_type": "fragment"
    }
   },
   "source": [
    "如果已知终值，现值=？"
   ]
  },
  {
   "cell_type": "markdown",
   "metadata": {
    "slideshow": {
     "slide_type": "fragment"
    }
   },
   "source": [
    "$$\\frac{2025}{1 + 5\\% \\times\\frac{90}{360}}= 2000$$"
   ]
  },
  {
   "cell_type": "markdown",
   "metadata": {
    "slideshow": {
     "slide_type": "slide"
    }
   },
   "source": [
    "（2）复利\n",
    "\n",
    "将1000元存入银行，年存款利率为3%，按复利计算5年以后的终值。"
   ]
  },
  {
   "cell_type": "markdown",
   "metadata": {
    "slideshow": {
     "slide_type": "fragment"
    }
   },
   "source": [
    "$$F = 10000 \\times （1+3\\%）^5 = 11590 (元)$$"
   ]
  },
  {
   "cell_type": "markdown",
   "metadata": {
    "slideshow": {
     "slide_type": "fragment"
    }
   },
   "source": [
    "已知终值，现值=？"
   ]
  },
  {
   "cell_type": "markdown",
   "metadata": {
    "slideshow": {
     "slide_type": "slide"
    }
   },
   "source": [
    "（3）年金\n",
    "\n",
    "每年一次的等额付款，扩展到每隔一个固定时间的等额付款。如折旧、保险、利息、租金等。"
   ]
  },
  {
   "cell_type": "markdown",
   "metadata": {
    "slideshow": {
     "slide_type": "fragment"
    }
   },
   "source": [
    "【例2-5，p39】假设某项目在4年建设期内每年年末从银行借款100万元，借款年利率为10%，则该项目竣工时应付本息是多少？\n",
    "\n",
    "$$F= A \\times \\frac{(1+i)^n-1}{i} = 100 \\times 4.641 = 464.1(万元)$$"
   ]
  },
  {
   "cell_type": "markdown",
   "metadata": {
    "slideshow": {
     "slide_type": "slide"
    }
   },
   "source": [
    "【例2-6，p40】某企业租入某设备，每年年末需要支付租金120元，年复利率为10%，则5年内应支付的租金总额的现值是多少？"
   ]
  },
  {
   "cell_type": "markdown",
   "metadata": {
    "slideshow": {
     "slide_type": "fragment"
    }
   },
   "source": [
    "$$P = A \\times \\frac{(1+i)^n-1}{(1+i)^n\\times i} = 120 \\times 3.791 = 454.92$$"
   ]
  },
  {
   "cell_type": "markdown",
   "metadata": {
    "slideshow": {
     "slide_type": "slide"
    }
   },
   "source": [
    "【例2-7，p41】假设某企业有一笔4年后到期的借款，到期值为1,000万元。若存款利率为10%，则为偿还这笔借款应建立的偿债基金是多少？"
   ]
  },
  {
   "cell_type": "markdown",
   "metadata": {
    "slideshow": {
     "slide_type": "fragment"
    }
   },
   "source": [
    "偿债基金：为了在约定的未来时点，清偿某笔债务或积蓄一定数量的资金而必须分次等额形成的存款准备金。"
   ]
  },
  {
   "cell_type": "markdown",
   "metadata": {
    "slideshow": {
     "slide_type": "fragment"
    }
   },
   "source": [
    "$$y \\times \\frac{(1+i)^n-1}{i} = y \\times 4.641 = 1000 $$"
   ]
  },
  {
   "cell_type": "markdown",
   "metadata": {
    "slideshow": {
     "slide_type": "slide"
    }
   },
   "source": [
    "【例2-8，p41】某企业现在借得1,000万元的贷款。在10年内以利率12%偿还，则每年应付的金额是多少？"
   ]
  },
  {
   "cell_type": "markdown",
   "metadata": {},
   "source": [
    "$$x \\times \\frac{(1+i)^n-1}{(1+i)^n\\times i} = x \\times 5.65 = 1000,  \\space  x = 177$$ "
   ]
  },
  {
   "cell_type": "markdown",
   "metadata": {
    "slideshow": {
     "slide_type": "slide"
    }
   },
   "source": [
    "## 现金流估算"
   ]
  },
  {
   "cell_type": "markdown",
   "metadata": {
    "slideshow": {
     "slide_type": "fragment"
    }
   },
   "source": [
    "> 我们在做投资决策时，折现的是现金流量还是利润？"
   ]
  },
  {
   "cell_type": "markdown",
   "metadata": {
    "slideshow": {
     "slide_type": "fragment"
    }
   },
   "source": [
    "会计按照权责发生制计算企业的收入和成本，利润=收入-成本。\n",
    "\n",
    "现金流量是收付实现制。\n",
    "\n",
    "区别：\n",
    "- 购置固定资产付出大量现金时不计入成本，而将固定资产的价值以折旧的形式逐期计入成本时，却不需要支付现金；\n",
    "- 只要销售行为已经确定，就计算为当期的销售收入，尽管其中有一部分并未收到现金；\n",
    "\n"
   ]
  },
  {
   "cell_type": "markdown",
   "metadata": {
    "slideshow": {
     "slide_type": "slide"
    }
   },
   "source": [
    "**自由现金流**（FCF, free cash flow）\n",
    "\n",
    "While a cash flow statement shows the cash inflow and outflow of a business, free cash flow is a company’s disposable income or cash at hand. \n",
    "\n",
    "FCF = Net income + Depreciation/Amortization – Change in Working Capital – Capital Expenditure.\n"
   ]
  },
  {
   "cell_type": "markdown",
   "metadata": {
    "slideshow": {
     "slide_type": "slide"
    }
   },
   "source": [
    "## 投资决策准则"
   ]
  },
  {
   "cell_type": "markdown",
   "metadata": {
    "slideshow": {
     "slide_type": "slide"
    }
   },
   "source": [
    "### NPV法"
   ]
  },
  {
   "cell_type": "markdown",
   "metadata": {
    "slideshow": {
     "slide_type": "fragment"
    }
   },
   "source": [
    "净现值法（Net Present Value）\n",
    "\n",
    "净现值：特定项目投资方案未来现金流入的现值与未来现金流出的现值之间的差额。"
   ]
  },
  {
   "cell_type": "markdown",
   "metadata": {},
   "source": [
    "$$NPV = \\Sigma_{t=0}^n\\frac{I_t}{(1+i)^t} - \\Sigma_{t=0}^n\\frac{O_t}{(1+i)^t}$$\n",
    "其中，\n",
    "- $n$表示投资项目涉及的年限；\n",
    "- $I_t$表示第t年的现金流入量；\n",
    "- $O_t$表示第t年的现金流出量；\n",
    "- $i$表示预定的贴现率。"
   ]
  },
  {
   "cell_type": "markdown",
   "metadata": {
    "slideshow": {
     "slide_type": "slide"
    }
   },
   "source": [
    "[例6-7 p196]某企业现有A、B两个投资方案，假设折现率为10%，求A、B两方案的净现值，并选出最优方案。\n",
    "\n",
    "方案|原始投资|第1年|第2年|第3年|第4年|第5年|第6年\n",
    "---|---|---|---|---|---|---|---\n",
    "A|200000|50000|50000|50000|50000|50000|50000\n",
    "B|200000|30000|40000|50000|60000|70000|80000"
   ]
  },
  {
   "cell_type": "markdown",
   "metadata": {
    "slideshow": {
     "slide_type": "fragment"
    }
   },
   "source": [
    "$NPV_A = 50000 \\times \\frac{(1+i)^n-1}{(1+i)^ni} -200000 = 17750$"
   ]
  },
  {
   "cell_type": "markdown",
   "metadata": {
    "slideshow": {
     "slide_type": "fragment"
    }
   },
   "source": [
    "$NPV_B = 72710$"
   ]
  },
  {
   "cell_type": "markdown",
   "metadata": {
    "slideshow": {
     "slide_type": "fragment"
    }
   },
   "source": [
    "**应该选择哪个方案？**"
   ]
  },
  {
   "cell_type": "markdown",
   "metadata": {
    "slideshow": {
     "slide_type": "fragment"
    }
   },
   "source": [
    "净现值都大于0，意味着都可以投资。\n",
    "\n",
    "如果两个方案互相独立，都选择；如果互斥，选择NPV大的。"
   ]
  },
  {
   "cell_type": "markdown",
   "metadata": {
    "slideshow": {
     "slide_type": "slide"
    }
   },
   "source": [
    "**预定的贴现率怎么确定？**\n",
    "\n",
    "- 公司要求的最低资本利润率\n",
    "- 资本成本"
   ]
  },
  {
   "cell_type": "markdown",
   "metadata": {
    "slideshow": {
     "slide_type": "fragment"
    }
   },
   "source": [
    "加权平均资本成本（WACC）：是指企业以各种资本在企业全部资本中所占的比重为权数，对各种长期资金的资本成本加权平均计算出来的资本总成本。\n",
    "$$ WACC=\\frac{E}{E+D}R_e+ \\frac{D}{E+D}R_d(1-Tc) $$\n",
    "\n",
    "- E: 企业权益的市场价值\n",
    "- D：企业负债的市场价值\n",
    "- $T_c$：企业的公司税率\n",
    "- $R_e$：企业的权益成本\n",
    "- $R_d$：企业的负债成本"
   ]
  },
  {
   "cell_type": "markdown",
   "metadata": {
    "slideshow": {
     "slide_type": "slide"
    }
   },
   "source": [
    "### 内含报酬率"
   ]
  },
  {
   "cell_type": "markdown",
   "metadata": {
    "slideshow": {
     "slide_type": "fragment"
    }
   },
   "source": [
    "内含报酬率（IRR，internal rate of return），指能够使项目投资方案未来现金流入量现值等于未来现金流出量现值的贴现率，即使得投资方案净现值为0的贴现率。\n",
    "\n",
    "$$ \\Sigma_{t=0}^n\\frac{I_t}{(1+i)^t} = \\Sigma_{t=0}^n\\frac{O_t}{(1+i)^t}$$\n"
   ]
  },
  {
   "cell_type": "markdown",
   "metadata": {
    "slideshow": {
     "slide_type": "slide"
    }
   },
   "source": [
    "【例6-10 p200】某公司购入一台机械设备，价值20万元，使用寿命5年，采用直线法计提折旧，5年后设备无残值。5年中每年销售收入为9万元，每年付现成本为3万元，该企业的所得税率为25%。计算IRR。"
   ]
  },
  {
   "cell_type": "markdown",
   "metadata": {
    "slideshow": {
     "slide_type": "fragment"
    }
   },
   "source": [
    "$NCF_0 = -200000$\n",
    "\n",
    "$NCF_{1-5} = (90000-30000-40000) \\times (1-25\\%) +40000 = 55000$\n",
    "\n",
    "$55000 \\times \\frac{(1+i)^n-1}{(1+i)^ni} = 200000$\n",
    "\n",
    "年金现值系数表，插值法 p280"
   ]
  },
  {
   "cell_type": "markdown",
   "metadata": {
    "slideshow": {
     "slide_type": "fragment"
    }
   },
   "source": [
    "> **如果NPV法和IRR法计算的结果有矛盾，如何选择？**"
   ]
  },
  {
   "cell_type": "markdown",
   "metadata": {
    "slideshow": {
     "slide_type": "slide"
    }
   },
   "source": [
    "### 投资回收期"
   ]
  },
  {
   "cell_type": "markdown",
   "metadata": {
    "slideshow": {
     "slide_type": "fragment"
    }
   },
   "source": [
    "投资回收期（PP，Payback Period），指回收初始项目投资额所需要的时间。回收年限越短越好。"
   ]
  },
  {
   "cell_type": "markdown",
   "metadata": {
    "slideshow": {
     "slide_type": "fragment"
    }
   },
   "source": [
    "$$ 投资回收期（PP） = \\frac{原始投资额}{每年净现金流入量}$$"
   ]
  },
  {
   "cell_type": "markdown",
   "metadata": {
    "slideshow": {
     "slide_type": "slide"
    }
   },
   "source": [
    "【例6-3 p193】某企业有一投资方案，投资总额为20万元，全部用于购置新生产线，折旧采用直线法计算，适用年限为5年，期满无残值。计算PP。"
   ]
  },
  {
   "cell_type": "markdown",
   "metadata": {
    "slideshow": {
     "slide_type": "slide"
    }
   },
   "source": [
    "【例6-4 p194】有一套生产线需投资600000元，三年建成。第一年投资50%，第二年及第三年各投资25%，使用寿命10年，预计净残值为原值的10%，采用直线法计提折旧。此外，在第三年需要增加流动资产及其他资产投资100000元。第四年投产后预计以后每年营业收入400000元，前两年付现成本150000元，以后各年逐年递增10000元，垫支的流动资产投资及其他资产投资在最后一年收回，所得税税率为25%。计算投资回收期。"
   ]
  },
  {
   "cell_type": "markdown",
   "metadata": {
    "slideshow": {
     "slide_type": "fragment"
    }
   },
   "source": [
    "年折旧额 = $\\frac{600000 \\times (1-10\\%)}{10} = 54000$\n",
    "\n",
    "$NCF_1 = -600000 \\times 50\\% = -300000$\n",
    "\n",
    "$NCF_2 = -600000 \\times 25\\% = -150000$\n",
    "\n",
    "$NCF_3 = -600000 \\times 25\\% - 100000 = -250000$\n",
    "\n",
    "$NCF_4 = (400000-150000-54000) \\times (1-25\\%) + 54000 = 201000$\n",
    "\n",
    "$NCF_5 = 201000$\n",
    "\n",
    "$NCF_6 = (400000-160000-54000) \\times (1-25\\%) + 54000 = 193500$\n",
    "\n",
    "$NCF_7 = (400000-170000-54000) \\times (1-25\\%) + 54000 = 186000$\n",
    "\n",
    "$NCF_8 = (400000-180000-54000) \\times (1-25\\%) + 54000 = 178500$\n",
    "\n",
    "$NCF_9 = (400000-190000-54000) \\times (1-25\\%) + 54000 = 171000$\n",
    "\n",
    "$NCF_10 = (400000-200000-54000) \\times (1-25\\%) + 54000 = 163500$\n",
    "\n",
    "$NCF_11 = (400000-210000-54000) \\times (1-25\\%) + 54000 = 156000$\n",
    "\n",
    "$NCF_12 = (400000-220000-54000) \\times (1-25\\%) + 54000 = 148500$\n",
    "\n",
    "$NCF_13 = (400000-230000-54000) \\times (1-25\\%) + 54000 + 100000 + 600000 \\times 10\\% = 301000$\n"
   ]
  },
  {
   "cell_type": "markdown",
   "metadata": {
    "slideshow": {
     "slide_type": "slide"
    }
   },
   "source": [
    "项目累计净现金流量\n",
    "\n",
    "第t年|1|2|3|4|5|6|7|8|9|10|11|12|13\n",
    "---|---|---|---|---|---|---|---|---|---|---|---|---|---\n",
    "净现金流量|（30）|（15）|（25）|20.1|20.1|19.35|18.6......\n",
    "累计净现金流量|（30）|（45）|（70）|（49.9）|（29.8）|（10.45）|8.15......"
   ]
  },
  {
   "cell_type": "markdown",
   "metadata": {
    "slideshow": {
     "slide_type": "fragment"
    }
   },
   "source": [
    "$$PP = 6 + \\frac{10.45}{18.6} = 6.56 年$$"
   ]
  },
  {
   "cell_type": "markdown",
   "metadata": {
    "slideshow": {
     "slide_type": "fragment"
    }
   },
   "source": [
    "投资回收期准则的**缺点**\n",
    "\n",
    "- 忽视时间价值\n",
    "- 追求短的投资回收期，可能急功近利，不利于战略性投资"
   ]
  },
  {
   "cell_type": "markdown",
   "metadata": {
    "slideshow": {
     "slide_type": "slide"
    }
   },
   "source": [
    "### 总结"
   ]
  },
  {
   "cell_type": "markdown",
   "metadata": {
    "slideshow": {
     "slide_type": "fragment"
    }
   },
   "source": [
    "Graham & Harvey(2001)\n",
    "- IRR\n",
    "- NPV\n",
    "- Payback\n",
    "- Book Rate of return\n",
    "- Profitability Index"
   ]
  }
 ],
 "metadata": {
  "celltoolbar": "Slideshow",
  "hide_input": false,
  "kernelspec": {
   "display_name": "Python 3",
   "language": "python",
   "name": "python3"
  },
  "language_info": {
   "codemirror_mode": {
    "name": "ipython",
    "version": 3
   },
   "file_extension": ".py",
   "mimetype": "text/x-python",
   "name": "python",
   "nbconvert_exporter": "python",
   "pygments_lexer": "ipython3",
   "version": "3.6.8"
  },
  "toc": {
   "base_numbering": 1,
   "nav_menu": {},
   "number_sections": true,
   "sideBar": true,
   "skip_h1_title": true,
   "title_cell": "Table of Contents",
   "title_sidebar": "Contents",
   "toc_cell": false,
   "toc_position": {
    "height": "calc(100% - 180px)",
    "left": "10px",
    "top": "150px",
    "width": "371.6px"
   },
   "toc_section_display": true,
   "toc_window_display": false
  }
 },
 "nbformat": 4,
 "nbformat_minor": 4
}
