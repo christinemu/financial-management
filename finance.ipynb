{
 "cells": [
  {
   "cell_type": "markdown",
   "metadata": {
    "slideshow": {
     "slide_type": "slide"
    }
   },
   "source": [
    "# 第三章 筹资"
   ]
  },
  {
   "cell_type": "markdown",
   "metadata": {
    "slideshow": {
     "slide_type": "slide"
    }
   },
   "source": [
    "企业为什么要筹资？"
   ]
  },
  {
   "cell_type": "markdown",
   "metadata": {
    "slideshow": {
     "slide_type": "fragment"
    }
   },
   "source": [
    "想要进行项目**投资**，自身资金又不充足。"
   ]
  },
  {
   "cell_type": "markdown",
   "metadata": {
    "slideshow": {
     "slide_type": "slide"
    }
   },
   "source": [
    "## 资金的筹集方式"
   ]
  },
  {
   "cell_type": "markdown",
   "metadata": {
    "slideshow": {
     "slide_type": "fragment"
    }
   },
   "source": [
    "- 内部资金 - 85%\n",
    "- 权益筹资 - 发行普通股、优先股\n",
    "- 负债筹资 - 包括发行债券、银行贷款"
   ]
  },
  {
   "cell_type": "markdown",
   "metadata": {
    "slideshow": {
     "slide_type": "slide"
    }
   },
   "source": [
    "### 权益融资"
   ]
  },
  {
   "cell_type": "markdown",
   "metadata": {
    "slideshow": {
     "slide_type": "fragment"
    }
   },
   "source": [
    "融资主体 —— **股份有限公司**\n",
    "\n",
    "融资方式 —— 发行**股票**"
   ]
  },
  {
   "cell_type": "markdown",
   "metadata": {
    "slideshow": {
     "slide_type": "fragment"
    }
   },
   "source": [
    "股票 —— 股份有限公司为筹集权益资本而发行的有价证券，是证明股东按其所持股份享有权利和义务的书面凭证。\n",
    "\n",
    "股东 —— 股票持有人，作为出资人，按投入公司的资本比例享有各种权利，并按持股比例对公司承担有限责任。"
   ]
  },
  {
   "cell_type": "markdown",
   "metadata": {
    "slideshow": {
     "slide_type": "slide"
    }
   },
   "source": [
    "#### 普通股"
   ]
  },
  {
   "cell_type": "markdown",
   "metadata": {
    "slideshow": {
     "slide_type": "fragment"
    }
   },
   "source": [
    "**普通股**是股份有限公司依法发行的、具有管理权、股利不固定的股票。\n",
    "\n",
    "一般，股份有限公司的股票都是普通股。"
   ]
  },
  {
   "cell_type": "markdown",
   "metadata": {
    "slideshow": {
     "slide_type": "fragment"
    }
   },
   "source": [
    "普通股的**特征**：\n",
    "\n",
    "- 股东对公司有经营管理权。（公司的**真正所有人**）\n",
    "- 股份分配在优先股之后，分配多少取决于公司的经营情况。\n",
    "- 公司解散清算时，股东对公司剩余财产的请求权位于各种债权人和优先股股东之后。\n",
    "- 公司增发新股时，股东具有认购优先权。"
   ]
  },
  {
   "cell_type": "markdown",
   "metadata": {
    "slideshow": {
     "slide_type": "slide"
    }
   },
   "source": [
    "普通股股东的组成\n",
    "- 个人投资者\n",
    "- 机构投资者（Institutional investors）\n",
    "    - 在金融市场从事证券投资的法人机构\n",
    "    - 保险公司、养老基金、投资基金、证券公司、银行等。\n"
   ]
  },
  {
   "cell_type": "markdown",
   "metadata": {
    "slideshow": {
     "slide_type": "fragment"
    }
   },
   "source": [
    "董事会\n",
    "\n",
    "由股东选举产生，代表股东的利益\n",
    "股东对重大事项投票\n",
    "- 管理层变更\n",
    "- M&A"
   ]
  },
  {
   "cell_type": "markdown",
   "metadata": {},
   "source": [
    "同股同权\n",
    "\n",
    "特殊公司，同股不同权，google，阿里，为了公司的控制权掌握在自己手里"
   ]
  },
  {
   "cell_type": "markdown",
   "metadata": {},
   "source": [
    "股东与债权人的风险偏好差异\n",
    "\n",
    "股票下跌空间有限，上涨无限，股东会愿意冒险。\n",
    "- 如果CEO把公司的钱拿去赌博，股东没有银行生气。"
   ]
  },
  {
   "cell_type": "markdown",
   "metadata": {
    "slideshow": {
     "slide_type": "slide"
    }
   },
   "source": [
    "#### 优先股"
   ]
  },
  {
   "cell_type": "markdown",
   "metadata": {
    "slideshow": {
     "slide_type": "fragment"
    }
   },
   "source": [
    "股份有限公司发行的具有一定优先权利的股票。"
   ]
  },
  {
   "cell_type": "markdown",
   "metadata": {
    "slideshow": {
     "slide_type": "fragment"
    }
   },
   "source": [
    "优先股的**特征**：\n",
    "\n",
    "- 优先分配股利，利率一般是固定的。\n",
    "- 优先分配剩余财产。\n",
    "- 性质类似公司债券，一般有偿还期。"
   ]
  },
  {
   "cell_type": "markdown",
   "metadata": {
    "slideshow": {
     "slide_type": "fragment"
    }
   },
   "source": [
    "公司为什么发行优先股？\n",
    "\n",
    "　　1、财务负担轻。股利不是必须偿付的一项法定债务，如果公司财务状况恶化时，这种股利可以不付。\n",
    "\n",
    "　　2、财务上灵活机动。没有规定最终到期日，它实质上是一种永续性借款。优先股票的收回由企业决定，企业可在有利条件下收回优先股票。\n",
    "\n",
    "　　3、财务风险小。由于从债权人的角度看，优先股属于公司股本，从而巩固了公司的财务状况，提高了公司的举债能力。\n",
    "\n",
    "　　4、不减少控制权。优先股票无表决权，因此，不影响普通股股东对企业的控制权。\n",
    "\n",
    "2013年11月，国务院发布《国务院关于开展优先股试点的指导意见》"
   ]
  },
  {
   "cell_type": "markdown",
   "metadata": {
    "slideshow": {
     "slide_type": "slide"
    }
   },
   "source": [
    "#### 股票的发行"
   ]
  },
  {
   "cell_type": "markdown",
   "metadata": {
    "slideshow": {
     "slide_type": "fragment"
    }
   },
   "source": [
    "发行方式\n",
    "\n",
    "- 私募发行： 公司只向少数特定对象发行股票\n",
    "- 公募发行： 公司公开向社会发行股票\n",
    "\n",
    "我国《公司法》规定，股份公司向社会公开发行股票，必须与依法设立的证券经营机构签订承销协议，由证券经营机构承销。\n",
    "\n",
    "证券业协会此前发布了2020年证券公司共38项指标的统计排名。券商投行业务直接融资能力进一步提升，2020年度投行业务收入达到670.67亿元，同比增长39.76%。实现股票主承销佣金收入268.52亿元，同比增长115.25%。"
   ]
  },
  {
   "cell_type": "markdown",
   "metadata": {
    "slideshow": {
     "slide_type": "slide"
    }
   },
   "source": [
    "证券公司"
   ]
  },
  {
   "cell_type": "markdown",
   "metadata": {
    "slideshow": {
     "slide_type": "fragment"
    }
   },
   "source": [
    "业务构成\n",
    "\n",
    "- 经纪业务：代理机构客户和个人客户买卖有价证券并收取佣金，具体包括证券、期货和外汇等经纪业务\n",
    "- 信用业务：融资融券业务（2C）还有股票质押（2B）\n",
    "- 投行业务：为市场上的公司参与一级市场直接融资提供中介服务并收取佣金，包括IPO、定增、发债、并购重组等。\n",
    "- 自营业务"
   ]
  },
  {
   "cell_type": "markdown",
   "metadata": {},
   "source": [
    "股票：\n",
    "\n",
    "- 发行在外的股票（outstanding shares）：公司当前的所有股东持有的股票总数，包括机构投资者的大笔持有和公司内部高管和内部人员持有的受限股。 Outstanding Shares常会出现在公司的资产负债表的“股票资产”。\n",
    "- 库存股（treasury shares）：已公开发行的股票但发行公司通过购入、赠予或其他方式重新获得可再行出售或注销的股票。库存股股票既不分配股利 ，又不附投票权 。\n",
    "- 流通股：上市企业股份中，可以在交易所流通的股份数量。\n",
    "- 非流通股(non-tradable shares，限售股)：指上市公司中不能在交易市场上自由买卖的股票 (包括 国家股、国有法人股、内资及外资法人股、发起 自然人股等);这类股票除了流通权与流通股不一样外，其它权利和义务都是完全一样的。\n",
    "- 大小非： 大是指限售流通股占总股本5%以上，小就是5%之下。 非二级市场流通股,为股票上市前大小股东用极便宜的价格买入.大小非解禁，2005年启动的股权分置改革。改革后公司原非流通股股份的出售，自改革方案实施之日起，在十二个月内不得上市交易或者转让；持有上市公司股份总数百分之五以上的原非流通股股东，在前项规定期满后，通过证券交易所挂牌交易出售原非流通股股份，出售数量占该公司股份总数的比例在十二个月内不得超过百分之五，在二十四个月内不得超过百分之十。\n",
    "- 面值：A股流通的股票面值都是1元。\n",
    "- 市值（market value）"
   ]
  },
  {
   "cell_type": "markdown",
   "metadata": {},
   "source": [
    "为什么有人愿意持有股票？\n",
    "- 获得资本升值\n",
    "- 获得股利\n",
    "\n",
    "与股利发放有关的四个重要日期：\n",
    "- 股利宣告日（Declaration date），公司董事会将股利支付情况予以公告的日期。\n",
    "- 股权登记日 (date of record)，在这一天仍然持有或买进该公司股票的投资者可以享有这次分红。\n",
    "- 除权日（Ex-dividend date），登记日后的第一天。\n",
    "- 股利支付日（Payment date），董事会确定向股东发放股利的日期。"
   ]
  },
  {
   "cell_type": "markdown",
   "metadata": {},
   "source": [
    "IPO(initial public offerings, 首次公开发行股票),公司通过证券交易所首次公开向投资者发行股票。\n",
    "我国公司上市的条件是什么？\n",
    "\n",
    "根据我国《公司法》的规定，股份有限公司申请IPO必须符合下列条件：\n",
    "\n",
    "1、持续经营时间应当在3年以上；\n",
    "\n",
    "2、主要资产不能存在重大权属纠纷;\n",
    "\n",
    "3、具有完整的业务体系和直接面向市场独立经营的能力;\n",
    "\n",
    "4、最近三个会计年度净利润均为正数且累计超过人民币3000万元;最近三个会计年度经营活动产生的现金流量净额累计超过人民币5000万元或最近三个会计年度营业收入累计超过人民币3亿元;最近一期无形资产占净资产的比例不高于20%;最近一期不存在未弥补亏损;\n",
    "\n",
    "5、发行人应具备持续盈利能力，并不存在以下情况：(1)最近一个会计年度的营业收入或净利润对关联方存在重大依赖;(2)最近一个会计年度的净利润主要来自合并财务报表范围以外的投资收益;(3)技术的取得或使用存在重大不利变化的风险;(4)存在可能影响公司持续经营的仲裁、诉讼或其他重大事项;(5)对税收优惠存在严重依赖。\n",
    "\n",
    "6、发行人最近36个月内不存在受到行政处罚或未经法定机关核准，擅自公开或变相公开发行过证券等情形。发行人不存在为控股股东、实际控制人或其控制的其他公司进行违规担保或资金被控股股东、实际控制人或其控制的其他公司占用的情形。"
   ]
  },
  {
   "cell_type": "markdown",
   "metadata": {},
   "source": [
    " \n",
    "概览 | 2021年1-6月中企IPO上市排行榜（A股、港股、美股）\n",
    "\n",
    "https://t.qianzhan.com/caijing/detail/210715-bb450339.html"
   ]
  },
  {
   "cell_type": "markdown",
   "metadata": {},
   "source": [
    "### 负债融资"
   ]
  },
  {
   "cell_type": "markdown",
   "metadata": {},
   "source": [
    "贷款\n",
    "\n",
    "债券\n",
    "\n",
    "票据"
   ]
  },
  {
   "cell_type": "markdown",
   "metadata": {
    "slideshow": {
     "slide_type": "slide"
    }
   },
   "source": [
    "【例4-6】某公司向银行获得一笔600万的长期借款，借款期限为4年，年复利9%。银行提供5种还款方式，（1）到期一次还本付息，单利计息。（2）分期（每年）付息，到期还本。（3）分期付息，分期等额还本。（4）分期等额还本付息。（5）前三年每年年末归还一笔相等金额的款项，最后一年归还本息共300万元，4年内全部还清本息。要求计算各种还款方式下的还款金额，并对最后一种还款方式编制还款计划表。\n"
   ]
  },
  {
   "cell_type": "markdown",
   "metadata": {
    "slideshow": {
     "slide_type": "fragment"
    }
   },
   "source": [
    "（1）到期一次还本付息，单利，4年后应付本利和 = $ 600 \\times (1+9\\% \\times 4) = 816 (万元)$"
   ]
  },
  {
   "cell_type": "markdown",
   "metadata": {
    "slideshow": {
     "slide_type": "fragment"
    }
   },
   "source": [
    "(2)每年付息，$ 600 \\times 9\\% = 54 $, 到期还本600万元。"
   ]
  },
  {
   "cell_type": "markdown",
   "metadata": {},
   "source": [
    "（3）分期付息，分期等额还本。\n",
    "第一年付息54万元，还本150万元；\n",
    "第二年付息$（600-150）\\times 9\\% = 40.5$, 还本150万元。以此类推。"
   ]
  },
  {
   "cell_type": "markdown",
   "metadata": {},
   "source": [
    "（4）分期等额还本付息。\n",
    "$ \\frac{x}{(1+i)} + \\frac{x}{(1+i)^2}+\\frac{x}{(1+i)^3}+\\frac{x}{(1+i)^4} = 600 $\n",
    "\n",
    "x=185.19万元"
   ]
  },
  {
   "cell_type": "markdown",
   "metadata": {},
   "source": [
    "（5）\n",
    "$ \\frac{x}{(1+i)} + \\frac{x}{(1+i)^2}+\\frac{x}{(1+i)^3}+\\frac{300}{(1+i)^4} = 600 $\n",
    "\n",
    "x=153.14万元"
   ]
  },
  {
   "cell_type": "markdown",
   "metadata": {
    "slideshow": {
     "slide_type": "skip"
    }
   },
   "source": [
    "Central Bank\n",
    "- A central bank or monetary authority is a monopolized and often nationalized institution given privileged control over the production and distribution of money and credit\n",
    "- In modern economies, the central bank is usually responsible for the formulation of monetary policy and the regulation of member banks\n",
    "Functions\n",
    "- control and manipulate the money supply by issuing currency and setting interest rates on loans and bonds\n",
    "- regulate member banks through capital requirements, reserve requirements and deposit guarantees\n",
    "- acts as an emergency lender to distressed commercial banks and other institutions\n",
    "\n",
    "Commercial banks\n",
    "- A commercial bank is a type of financial institution that accepts deposits; offers checking account services; makes business, personal and mortgage loans; and offers basic financial products and savings accounts to individuals and small businesses\n",
    "- Commercial banks make money by providing loans and earning interest income from those loans\n",
    "- The types of loans include mortgages, auto loans, business loans and personal loans\n"
   ]
  },
  {
   "cell_type": "markdown",
   "metadata": {
    "slideshow": {
     "slide_type": "slide"
    }
   },
   "source": [
    "债券 (bond)，是一种金融契约，是政府、金融机构、工商企业等直接向社会借债筹措资金时，向投资者发行，同时承诺按一定利率支付利息并按约定条件偿还本金的债权债务凭证。\n",
    "- 政府债券：财政部发行的国债\n",
    "- 公司债：\n",
    "\n",
    "\n",
    "债券的评级：AAA-CCC"
   ]
  },
  {
   "cell_type": "markdown",
   "metadata": {
    "slideshow": {
     "slide_type": "slide"
    }
   },
   "source": [
    "面值\n",
    "\n",
    "票面利率\n",
    "\n",
    "债券期限\n",
    "\n",
    "\n",
    "债券的价格 = $\\Sigma_{t=1}^n \\frac{年利息}{（1+市场利率）^t}+\\frac{面值}{(1+市场利率)^n}$"
   ]
  },
  {
   "cell_type": "markdown",
   "metadata": {
    "slideshow": {
     "slide_type": "slide"
    }
   },
   "source": [
    "【例4-11，p142】某公司拟发行面值1000元，票面利率8%，期限为20年，每年年末付息的债券。假定当时的市场利率为8%，如果到债券发行时，市场利率发生变化，就要调整债券的发行价格。试分析市场利率分别为6%、8%和10%时的债券价格变化。"
   ]
  },
  {
   "cell_type": "markdown",
   "metadata": {
    "slideshow": {
     "slide_type": "fragment"
    }
   },
   "source": [
    "（1）市场利率为8%，不变。则：\n",
    "$\\frac{1000}{(1+8\\%)^{20}}+1000 \\times 8\\% \\times \\frac{(1+8\\%)^{20}-1}{8\\% \\times (1+8\\%)^{20}} \\approx 1000$"
   ]
  },
  {
   "cell_type": "markdown",
   "metadata": {
    "slideshow": {
     "slide_type": "fragment"
    }
   },
   "source": [
    "（2）市场利率为10%，上升。则：\n"
   ]
  },
  {
   "cell_type": "markdown",
   "metadata": {
    "slideshow": {
     "slide_type": "fragment"
    }
   },
   "source": [
    "（3）市场利率为6%，下降。则：\n"
   ]
  },
  {
   "cell_type": "markdown",
   "metadata": {},
   "source": [
    "各种债券\n",
    "\n",
    "- 长期债券与短期债券 （long or short maturity）\n",
    "- 支付结构（年付、季付、零息）\n",
    "- 票面利率固定与浮动\n",
    "- 债券币种\n",
    "- 有无担保（secured or unsecured）\n",
    "- 次级债、垃圾债券(senior or subordinated，or junk)：\n",
    " bond issues that are ranked below other forms of bonds in the event that the issuer must liquidate assets, either due to shutting down the enterprise, entering into bankruptcy, or undergoing some other form of severe financial distress.\n",
    "- 附加条款（restrictions and covenants）\n",
    "- 可转换债 (convertible)"
   ]
  },
  {
   "cell_type": "markdown",
   "metadata": {},
   "source": [
    "金融市场\n",
    "\n",
    "- 一级市场，也称发行市场或初级市场，是资本需求者将证券首次出售给公众时形成的市场。它是新证券和票据等金融工具的买卖市场。\n",
    "- 二级市场，指在证券发行后各种证券在不同的投资者之间买卖流通所形成的市场，又称流通市场或次级市场。比如上海证券交易所和深圳证券交易所就属于二级市场。"
   ]
  },
  {
   "cell_type": "markdown",
   "metadata": {},
   "source": [
    "金融机构\n",
    "\n",
    "交易所\n",
    "证监会\n",
    "风险投资基金\n",
    "共同基金\n",
    "证券公司\n",
    "中央银行\n",
    "对冲基金\n",
    "投资银行"
   ]
  },
  {
   "cell_type": "markdown",
   "metadata": {},
   "source": [
    "## 资本结构"
   ]
  },
  {
   "cell_type": "markdown",
   "metadata": {},
   "source": [
    "负债率 Debt Ratio = $ \\frac{D}{D+E}$ \n",
    "\n",
    "负债权益率 Debt-to-Equity Ratio = $ \\frac{D}{E}$"
   ]
  },
  {
   "cell_type": "markdown",
   "metadata": {},
   "source": [
    "经营业绩较好|情形1|情形2|情形3\n",
    "---|---|---|---\n",
    "Equity|10|7.5|5\n",
    "Debt|0|2.5|5\n",
    "Debt-to-Equity|0|0.33|1\n",
    "EBIT|2|2|2\n",
    "Interst(5%)|0|0.125|0.25\n",
    "EBT|2|1.875|1.75\n",
    "Taxes(40%)|0.8|0.75|0.7\n",
    "Net Income|1.2|1.125|1.05\n",
    "Return on Equity|12%|15%|21%"
   ]
  },
  {
   "cell_type": "markdown",
   "metadata": {},
   "source": [
    "revenue-cost-depreciation= ebit\n",
    "ebit-interest= taxable income\n",
    "-tax = net income"
   ]
  },
  {
   "cell_type": "markdown",
   "metadata": {},
   "source": [
    "经营业绩一般|情形1|情形2|情形3\n",
    "---|---|---|---\n",
    "Equity|10|7.5|5\n",
    "Debt|0|2.5|5\n",
    "Debt-to-Equity|0|0.33|1\n",
    "EBIT|**0.5**|**0.5**|**0.5**\n",
    "Interst(5%)|0|0.125|0.25\n",
    "EBT|0.5|0.375|0.25\n",
    "Taxes(40%)|0.2|0.15|0.1\n",
    "Net Income|0.3|0.225|0.15\n",
    "Return on Equity|3%|3%|3%"
   ]
  },
  {
   "cell_type": "markdown",
   "metadata": {},
   "source": [
    "经营业绩较差|情形1|情形2|情形3\n",
    "---|---|---|---\n",
    "Equity|10|7.5|5\n",
    "Debt|0|2.5|5\n",
    "Debt-to-Equity|0|0.33|1\n",
    "EBIT|-1|-1|-1\n",
    "Interst(5%)|0|0.125|0.25\n",
    "EBT|-1|-1.125|-1.25\n",
    "Taxes(40%)|-0.4|-0.45|-0.5\n",
    "Net Income|-0.6|-0.675|-0.75\n",
    "Return on Equity|-6%|-9%|-15%"
   ]
  },
  {
   "cell_type": "markdown",
   "metadata": {},
   "source": [
    "结论\n",
    "\n",
    "- 负债会放大股权收益率，即杠杆。（using debt, i.e.leverage, amplifies the effect of good and bad operating performance on equityholder returns.）\n",
    "- 考虑三种情形：经济萧条期（recession）、稳定期(expected)、扩张期(expansion)，一个风险厌恶的CEO会如果选择自己的资本结构？"
   ]
  },
  {
   "cell_type": "markdown",
   "metadata": {
    "slideshow": {
     "slide_type": "skip"
    }
   },
   "source": [
    "draw a chart with x axis as EBIT and y as ROE. No debt scenario is a upward line, and with debt scenario is steeper."
   ]
  },
  {
   "cell_type": "markdown",
   "metadata": {},
   "source": [
    "## 资本结构理论"
   ]
  },
  {
   "cell_type": "markdown",
   "metadata": {},
   "source": [
    "### M&M （Modigliani & Miller）\n",
    "\n",
    "Modigliani, F. and Miller, M.H. (1958) The Cost of Capital, Corporation Finance and the Theory of Investment. The American Economic Review, 48, 261-297.\n",
    "\n",
    "The theory suggests that \n",
    "- a company’s capital structure and the average cost of capital does not have an impact on its overall value. \n",
    "- The company’s value is impacted by its operating income or by the present value of the company’s future earnings.\n",
    "- It doesn’t matter whether the company raises capital by borrowing money, issuing new shares, or by reinvesting profits in daily operations."
   ]
  },
  {
   "cell_type": "markdown",
   "metadata": {},
   "source": [
    "- 1956: ...capital structure is irrelevant\n",
    "\n",
    "假设：\n",
    "- 没有税\n",
    "- 不会破产\n",
    "- 没有交易成本\n",
    "- 融资不影响经营\n",
    "\n",
    "Miller考虑了税收，但是仍然得出相同的结论。"
   ]
  },
  {
   "cell_type": "markdown",
   "metadata": {
    "slideshow": {
     "slide_type": "slide"
    }
   },
   "source": [
    "两个公司，其中一个U公司没有负债（U for unlevered），另一个L公司既有权益又有负债（L for levered）。"
   ]
  },
  {
   "cell_type": "markdown",
   "metadata": {},
   "source": [
    "10%的公司U的价值为 投资额：$ 10\\% \\times V_u$， 回报 $10\\% \\times Profit$ \n",
    "10%的公司L的价值为"
   ]
  },
  {
   "cell_type": "markdown",
   "metadata": {},
   "source": [
    "如果两个公司的现金流一样，他们应该有相同的价值。\n",
    "定理1：\n",
    "Firm value(and shareholder value) is unaffected by financing decisions.\n",
    "\n",
    "$ V_L = V_U $"
   ]
  },
  {
   "cell_type": "markdown",
   "metadata": {},
   "source": [
    "定理2：WACC与资本结构无关。\n",
    "The cost of equity is increasing in debt-to-equity, and the firm cost of equity is independent of financing decisions.\n",
    "\n",
    "$WACC_L = WACC_U$"
   ]
  },
  {
   "cell_type": "markdown",
   "metadata": {},
   "source": [
    "$r_E = r_A+\\frac{D}{E}(r_A-r_D)$\n",
    "\n",
    "假设没有税，公司也不会破产，权益成本是资本结构的线性函数\n",
    "\n",
    "如果$\\frac{D}{E} = 0$, $r_E = r_A$"
   ]
  },
  {
   "cell_type": "markdown",
   "metadata": {},
   "source": [
    "权益|负债|权益成本|负债成本|加权平均资本成本\n",
    "---|---|---|---|---\n",
    "1000|0|15%|5%|15%\n",
    "800|200|17.5%|5%|15%\n",
    "500|500|25%|5%|15%\n",
    "100|900|75%|8.3%|15%"
   ]
  },
  {
   "cell_type": "markdown",
   "metadata": {},
   "source": [
    "[例]Safeway公司，在2008年的EBIT为1.85billion，利息费用为350million。Safeway的税率为35%。\n",
    "\n",
    "-|有杠杆|无杠杆\n",
    "---|---|---\n",
    "EBIT|1850|1850\n",
    "利息|-350|0\n",
    "税前收入|1500|1850\n",
    "税|-525|-648\n",
    "净收入（NI）|975|1202\n",
    "\n",
    "> 是否有杠杆的情况比较差？"
   ]
  },
  {
   "cell_type": "markdown",
   "metadata": {},
   "source": [
    "无杠杆情况下，Safeway为投资者创造1202million；有杠杆的情况下，Safeway为投资者创造1325million。\n",
    "\n",
    "> 123million哪来的？"
   ]
  },
  {
   "cell_type": "markdown",
   "metadata": {},
   "source": [
    "利息税盾（Interest Tax Shields）\n",
    "\n",
    "$ 123 = 350 \\times 35\\% $"
   ]
  },
  {
   "cell_type": "markdown",
   "metadata": {},
   "source": [
    "假设存在税收。\n",
    "\n",
    "-|无杠杆|有杠杆\n",
    "---|---|---\n",
    "销售|1000|1000\n",
    "成本|300|300\n",
    "折旧|200|200\n",
    "EBIT|500|500\n",
    "利息(5%)|0|200\n",
    "EBT|500|300\n",
    "Taxes(40%)|200|120\n",
    "Net Income|300|180\n"
   ]
  },
  {
   "cell_type": "markdown",
   "metadata": {
    "slideshow": {
     "slide_type": "slide"
    }
   },
   "source": [
    "MM 定理3： $ V_L = V_U +D \\times T_c$"
   ]
  },
  {
   "cell_type": "markdown",
   "metadata": {
    "slideshow": {
     "slide_type": "fragment"
    }
   },
   "source": [
    "[例]假设P公司的所有股票价值50m，没有负债。公司考虑借债1m，利息10%，用这部分钱从股东手中买走价值1m的股票。税率40%。那么P公司的价值会增长$1m \\times 40\\%=0.4m$，达到50.4m。股权部分价值为50.4-1=49.4m。结果是公司手里有了1m的现金，权益价值仍有49.4m。"
   ]
  },
  {
   "cell_type": "markdown",
   "metadata": {
    "slideshow": {
     "slide_type": "slide"
    }
   },
   "source": [
    "$WACC_L = \\frac{D}{D+E}r_D(1-T_c) + \\frac{E}{D+E}r_E$\n",
    "\n",
    "$WACC_L = WACC_U\\frac{D(1-T_c)+E}{D+E}$\n",
    "\n",
    "so $WACC_L < WACC_U$"
   ]
  },
  {
   "cell_type": "markdown",
   "metadata": {},
   "source": [
    "推导 权益成本 cost of equity\n",
    "\n",
    "$r_E$"
   ]
  },
  {
   "cell_type": "markdown",
   "metadata": {},
   "source": [
    "既然资本结构跟公司价值无关，我们为什么关注资本结构？\n",
    "\n",
    "- 降低代理成本（Jensen, 1996）\n",
    "  - Debt creates obligations for firm\n",
    "  - A portion of cash from operations must go toward repaying debt\n",
    "  - Management is less likely to overinvest and be an \"empire-builder\"\n",
    "- 税盾 tax shield created by interest expense\n",
    "  - after-tax cost of debt is low compared to alternative forms of financing\n",
    "  \n",
    "- 缺少资金支配的灵活性\n",
    "  - debt can lock a firm into a particular capital structure for a long time\n",
    "- 破产风险\n"
   ]
  },
  {
   "cell_type": "markdown",
   "metadata": {},
   "source": [
    "股东与债权人之间的代理问题\n",
    "\n",
    "- 股东比债权人更有动机接受高风险的项目\n",
    "- 债权人更反对分红\n",
    "\n",
    "- 债权人要求抵押\n",
    "- 协议中规定资金用途\n",
    "- 提高借款利率"
   ]
  },
  {
   "cell_type": "markdown",
   "metadata": {
    "slideshow": {
     "slide_type": "slide"
    }
   },
   "source": [
    "【例1】XYZ公司借款100元，利率10%。XYZ公司有两个投资项目备选，都是初始投资100元。A项目确定获得111元。B项目由50%的可能获得115元，50%的可能获得90元。股东和债券人分别会选择哪个项目？"
   ]
  },
  {
   "cell_type": "markdown",
   "metadata": {
    "slideshow": {
     "slide_type": "fragment"
    }
   },
   "source": [
    "对于A项目，债权人稳稳的获得110元，股东获得1元；\n",
    "对于B项目，债权人可能以50%的概率获得90元，50%的概率获得110元；股东可能有50%的概率获得0元，50%的概率获得5元。"
   ]
  },
  {
   "cell_type": "markdown",
   "metadata": {
    "slideshow": {
     "slide_type": "slide"
    }
   },
   "source": [
    "【例2】公司借贷4000元。现在有个项目，能够获得1700元，成本是1000元（NPV为正！），需要由股东出资。\n",
    "\n",
    "-|经济增长|经济萧条|经济增长|经济萧条\n",
    "---|---|---|---|---\n",
    "|不投资||投资|\n",
    "现金流|5000|2400|6700|4100\n",
    "债权人获得|4000|2400|4000|4000\n",
    "股东获得|1000|0|2700|100\n",
    "\n",
    "> 股东会不会投资这个项目？"
   ]
  },
  {
   "cell_type": "markdown",
   "metadata": {},
   "source": [
    "破产\n",
    "- Firms that cannot meet their obligations have to choices: liquidation or reorganization\n",
    "\n",
    "清算- termination of the firm\n",
    "- 以残值贱卖资产\n",
    "- 除去交易费用之后的剩余，优先按顺序偿还债权人。\n",
    "\n",
    "重组 - keep the firm\n",
    "- 可能发行新股取代旧股"
   ]
  },
  {
   "cell_type": "markdown",
   "metadata": {},
   "source": [
    "破产成本\n",
    "\n",
    "- 直接成本: 法律和管理成本\n",
    "    - Warner（1977）：costs 5.3% of assets at the time of bankrupcy\n",
    "    - Weiss（1989）：3% of book value of assets。20% of prior year's equity market value.\n",
    "    - between 2003-2005, US paid $8.6m per month for legal and professional services.\n",
    "    \n",
    "- 间接成本：\n",
    "    - lost sales, change in customer behavior\n",
    "        - long life durable goods that require replacement parts, e.g. Renault\n",
    "        - quality is important, e.g. airlines\n",
    "        - require coninuous service and support, e.g. Xerox\n",
    "    - change in supplier behavior, like requiring up-front cash payment for raw materials\n",
    "    - difficulty obtaining new capital(higher cost)\n",
    "    - note: these can occur even before bankrupcy, when the firm is in financial distress\n",
    "    "
   ]
  },
  {
   "cell_type": "markdown",
   "metadata": {},
   "source": [
    "作业：\n",
    "\n",
    "> 调研一个或多个公司，比较不同类型公司的负债率。"
   ]
  },
  {
   "cell_type": "markdown",
   "metadata": {},
   "source": [
    "当考虑到破产可能性的时候，权益成本和债务成本都会随着$\\frac{D}{E}$变大而变大。\n",
    "\n",
    "WACC 随着$\\frac{D}{E}$变大，会呈现先变小后变大的规律。 \n",
    "\n",
    "MM theory: 最优的资本结构应该在税收节省和破产成本上取得平衡。"
   ]
  },
  {
   "cell_type": "markdown",
   "metadata": {
    "slideshow": {
     "slide_type": "slide"
    }
   },
   "source": [
    "### Pecking Order Theory"
   ]
  },
  {
   "cell_type": "markdown",
   "metadata": {
    "slideshow": {
     "slide_type": "fragment"
    }
   },
   "source": [
    "Myers and Majluf(1984)\n",
    "Based on asymmetric information\n",
    "- CFO has more information about his company than investors do\n",
    "    - stock prices change when company makes announcements\n",
    "    - insider trading can produce huge gains"
   ]
  },
  {
   "cell_type": "markdown",
   "metadata": {
    "slideshow": {
     "slide_type": "slide"
    }
   },
   "source": [
    "lead to a \"pecking order\" of capital sources\n",
    "- first use internal funds\n",
    "- then issue debt\n",
    "- issue equity as a last resort"
   ]
  },
  {
   "cell_type": "markdown",
   "metadata": {
    "slideshow": {
     "slide_type": "fragment"
    }
   },
   "source": [
    "与MM理论有什么区别？\n",
    "- there is no target D/E ratio\n",
    "- profitable firms use less debt\n",
    "- companies like financial flexibility"
   ]
  },
  {
   "cell_type": "markdown",
   "metadata": {
    "slideshow": {
     "slide_type": "slide"
    }
   },
   "source": [
    "【举例】Two firms: H and C\n",
    "    - public information and market expectations are identical for both firms\n",
    "    - both stocks currently trade at 100 per share\n",
    "        - based on private information known by the CFO, H is actually worth 80\n",
    "        - the other CFO knows C is actually worth 120\n",
    "    - both firms need more capital\n",
    "        - can raise funds using either equity or debt"
   ]
  },
  {
   "cell_type": "markdown",
   "metadata": {
    "slideshow": {
     "slide_type": "fragment"
    }
   },
   "source": [
    "\n",
    "> 哪个公司会启动负债融资，哪个公司使用权益融资？"
   ]
  },
  {
   "cell_type": "markdown",
   "metadata": {},
   "source": [
    "如果公司能用负债融资，就不用权益融资:\n",
    "- 第一种情况：equity is underpriced and debt is cheaper\n",
    "- 第二种情况：equity is overpriced and issuing equity will signal the market about this mispricing... the stock price will fall to fair value\n",
    "\n",
    "> so debt is above equity in the pecking order of firm financing"
   ]
  },
  {
   "cell_type": "markdown",
   "metadata": {
    "slideshow": {
     "slide_type": "slide"
    }
   },
   "source": [
    "检验pecking order theory\n",
    "\n",
    "Shyam-Sunder and Myers (1999)\n",
    "- find significant evidence in favor of pecking order theory\n",
    "- Reject tradeoff model(M&M) based on their model and method\n",
    "\n",
    "Chirinko and singha (2000)\n",
    "- Show that S&M tests were bad and biased toward finding results in favor of pecking order\n",
    "\n",
    "Frank and Goyal （2003）\n",
    "- reject pecking order theory\n",
    "- firms issue too much equity and at the wrong times\n",
    "- find that net equity issues track financial deficit more closely than net debt issues\n",
    "- leverage increases with the industry leverage, firm size"
   ]
  },
  {
   "cell_type": "markdown",
   "metadata": {
    "slideshow": {
     "slide_type": "slide"
    }
   },
   "source": [
    "### Market Timing Theory"
   ]
  },
  {
   "cell_type": "markdown",
   "metadata": {
    "slideshow": {
     "slide_type": "fragment"
    }
   },
   "source": [
    "Baker and Wurgler(2002)\n",
    "\n",
    "- managers issue equity when stock is overpriced, debt when stock is underpriced(reference point)\n",
    "\n",
    "- current capital structure is cumulative outcome of past market timing efforts\n",
    "\n",
    "- 公司总是选择一个资本结构，使得负债融资的边际收益等于边际成本。"
   ]
  },
  {
   "cell_type": "markdown",
   "metadata": {
    "slideshow": {
     "slide_type": "slide"
    }
   },
   "source": [
    "投资者如何解读公司的负债融资行为？\n",
    "- firms with low anticipated profits will take on a low level of debt\n",
    "- firms with high anticipated profits will take on a high level of debt"
   ]
  },
  {
   "cell_type": "markdown",
   "metadata": {
    "slideshow": {
     "slide_type": "fragment"
    }
   },
   "source": [
    "> 公司是否会传递一个虚假信号？明明没有较高的利润回报，却故意选择负债融资？"
   ]
  },
  {
   "cell_type": "markdown",
   "metadata": {
    "slideshow": {
     "slide_type": "slide"
    }
   },
   "source": [
    "## 实践"
   ]
  },
  {
   "cell_type": "markdown",
   "metadata": {
    "slideshow": {
     "slide_type": "fragment"
    }
   },
   "source": [
    "> 在现实世界中，企业在制定融资决策时会倾向于哪个理论？考虑的主要因素是什么？ The theory and practice of corporate finance: evidence from the field(Graham & Harvey, 2001)"
   ]
  },
  {
   "cell_type": "markdown",
   "metadata": {
    "slideshow": {
     "slide_type": "slide"
    }
   },
   "source": [
    "企业有没有一个目标的负债-权益率？"
   ]
  },
  {
   "cell_type": "markdown",
   "metadata": {
    "slideshow": {
     "slide_type": "fragment"
    }
   },
   "source": [
    "<img src=\"whether firms have target debt-equity ratios.png\">"
   ]
  },
  {
   "cell_type": "markdown",
   "metadata": {
    "slideshow": {
     "slide_type": "slide"
    }
   },
   "source": [
    "> 企业主要考虑什么因素？"
   ]
  },
  {
   "cell_type": "markdown",
   "metadata": {
    "slideshow": {
     "slide_type": "fragment"
    }
   },
   "source": [
    "<img src=\"debt policy factors.png\">"
   ]
  },
  {
   "cell_type": "markdown",
   "metadata": {
    "slideshow": {
     "slide_type": "slide"
    }
   },
   "source": [
    "> 融资策略能否向市场传递经营信号？"
   ]
  },
  {
   "cell_type": "markdown",
   "metadata": {
    "slideshow": {
     "slide_type": "slide"
    }
   },
   "source": [
    "作业：\n",
    "\n",
    "- 用统计图表等形式，描述我国(或美国、欧洲、日本)企业（上市、非上市、某个行业都可以）使用债券融资或股权融资的情况；年份越近越好。并做简要分析。\n",
    "- 描述我国(或美国、欧洲、日本)企业债券融资前后、或股权融资前后的股价变化情况。并做简要分析。\n",
    "- 市场如何解读企业的融资决策？"
   ]
  }
 ],
 "metadata": {
  "celltoolbar": "Slideshow",
  "hide_input": false,
  "kernelspec": {
   "display_name": "Python 3",
   "language": "python",
   "name": "python3"
  },
  "language_info": {
   "codemirror_mode": {
    "name": "ipython",
    "version": 3
   },
   "file_extension": ".py",
   "mimetype": "text/x-python",
   "name": "python",
   "nbconvert_exporter": "python",
   "pygments_lexer": "ipython3",
   "version": "3.6.8"
  },
  "toc": {
   "base_numbering": 1,
   "nav_menu": {},
   "number_sections": true,
   "sideBar": true,
   "skip_h1_title": false,
   "title_cell": "Table of Contents",
   "title_sidebar": "Contents",
   "toc_cell": false,
   "toc_position": {
    "height": "calc(100% - 180px)",
    "left": "10px",
    "top": "150px",
    "width": "397.913px"
   },
   "toc_section_display": true,
   "toc_window_display": true
  }
 },
 "nbformat": 4,
 "nbformat_minor": 4
}
