{
 "cells": [
  {
   "cell_type": "markdown",
   "metadata": {
    "slideshow": {
     "slide_type": "slide"
    }
   },
   "source": [
    "# 预算管理"
   ]
  },
  {
   "cell_type": "markdown",
   "metadata": {
    "slideshow": {
     "slide_type": "slide"
    }
   },
   "source": [
    "**预算管理**\n",
    "预算指的是利用发展战略和预测，将企业未来一定时期内希望实现的经营成果反映为价值和实物等形态，进而作为企业经营过程中控制和考核的标准{梁莹, 2007 #1390}。"
   ]
  },
  {
   "cell_type": "markdown",
   "metadata": {
    "slideshow": {
     "slide_type": "fragment"
    }
   },
   "source": [
    "- 预算为企业经营发展铺设了可行的路径图{CIMA, 2004 #1392}，有助于实现资源在企业各个环节的系统配置和管理活动的协调{Fisher, 2002 #1297};\n",
    "- 预算为企业各个层级设定了相对明确的任务目标，可以起到控制成本的功效{Covaleski, 2003 #1337}，\n",
    "- 被誉为能够将组织各类关键互动融合到一个统一系统中的少数方法之一{Otley, 1999 #1391}。\n",
    "- 正因为具有这样诸多的优势，预算已经成为现代企业管理制度中不可或缺的成员。"
   ]
  },
  {
   "cell_type": "markdown",
   "metadata": {
    "slideshow": {
     "slide_type": "slide"
    }
   },
   "source": [
    "预算管理的要点：\n",
    "\n",
    "- 是预算期之前编制并获得董事会批准的计划，通过实际执行结果与预算之差异分析，可以评价相关经理人员和雇员的工作表现。 \n",
    "- 是一种资源分配，对计划投入产出内容、数量、以及投入产出时间安排的详细说明。\n",
    "- 是对未来一段时间内收支情况的预计，\n",
    "- 是过程中的控制，即事前控制、事中控制、事后控制。事前控制是投资项目或生产经营的规划、预算的编制，详细的描述了为实现计划目标而要进行的工作标准。事中控制是一种协调、限制差异的行动，保证预期目标的实现。事后控制是鉴别偏差，纠正不利的影响。\n",
    "- 公司的总预算是由各分预算汇编而成的，各分公司一旦确定预算，预算就成为考核工作效率、工作质量的标准。"
   ]
  },
  {
   "cell_type": "markdown",
   "metadata": {
    "slideshow": {
     "slide_type": "slide"
    }
   },
   "source": [
    "## 预算编制的起点"
   ]
  },
  {
   "cell_type": "markdown",
   "metadata": {
    "slideshow": {
     "slide_type": "fragment"
    }
   },
   "source": [
    "> 从控制论的角度看，预算编制是一个投入产出的过程。"
   ]
  },
  {
   "cell_type": "markdown",
   "metadata": {
    "slideshow": {
     "slide_type": "fragment"
    }
   },
   "source": [
    "- 预算的产出是预计的现金流量表、损益表、资产负债表\n",
    "- 预算的投入，即预算编制的起点的不同则会导致形式各异的预算产出。"
   ]
  },
  {
   "cell_type": "markdown",
   "metadata": {
    "slideshow": {
     "slide_type": "slide"
    }
   },
   "source": [
    "- 在卖方市场时代，大多数制造型企业施行的是“推式”生产系统，因此，每年的生产任务就成为了预算编制的起点。\n",
    "- 进入了买方市场时代之后，制造型企业从“推式”生产系统转变为“拉式”生产系统，相应的销售预测就变成了预算编制的起点。\n",
    "- 随着现代企业制度的完善，股东利益是企业必须考虑的重要因素，利润或每股收益成为预算编制的起点。"
   ]
  },
  {
   "cell_type": "markdown",
   "metadata": {
    "slideshow": {
     "slide_type": "slide"
    }
   },
   "source": [
    "> 预算编制起点会随着利润增长点在生命周期中的转移而改变。在企业初创期，以寻找投资机会为核心，因此宜实行资本导向的预算；在企业的发展期，利润增长点在于扩大销量，因此宜实行销售导向的预算；在企业成熟期，产品销量较为稳定，利润增长点转移到了成本控制之上，因此宜实行成本导向预算；在衰退期，利润增长点在于控制现金流量，因此宜实行资金导向的预算。"
   ]
  },
  {
   "cell_type": "markdown",
   "metadata": {
    "slideshow": {
     "slide_type": "slide"
    }
   },
   "source": [
    "预算要能够反映企业战略。然而，战略的含义广泛，不仅包括先前研究提到的财务指标，而且包括非财务指标。"
   ]
  },
  {
   "cell_type": "markdown",
   "metadata": {
    "slideshow": {
     "slide_type": "fragment"
    }
   },
   "source": [
    "美国会计学家Kaplan提出的平衡计分卡为将战略形成预算编制的起点提供了行之有效的途径。通过战略地图，平衡计分卡将业务流程、创新与学习、顾客与财务相结合，将抽象的战略转化为具体的业绩目标，以此作为预算编制的输入要素。"
   ]
  },
  {
   "cell_type": "markdown",
   "metadata": {
    "slideshow": {
     "slide_type": "slide"
    }
   },
   "source": [
    "<img src='balanced score card.jpg'>"
   ]
  },
  {
   "cell_type": "markdown",
   "metadata": {
    "slideshow": {
     "slide_type": "slide"
    }
   },
   "source": [
    "## 预算指标值的设置"
   ]
  },
  {
   "cell_type": "markdown",
   "metadata": {
    "slideshow": {
     "slide_type": "fragment"
    }
   },
   "source": [
    "每一条预算指标的确定还要依赖于具体的生产条件，例如产能、需求、资源消耗等，以及员工的能力。这些信息决定了客观的产出和资源消耗，可以视作预算指标的真值。\n",
    "\n",
    "然而，这些信息通常由预算执行者所私有，于是预算制定者如何获取这些信息成为一个关键问题。"
   ]
  },
  {
   "cell_type": "markdown",
   "metadata": {
    "slideshow": {
     "slide_type": "fragment"
    }
   },
   "source": [
    "研究提出“参与预算”（participative budgeting）在理论上可以实现这样的目的。参与预算让员工从被动的预算执行者参加到预算指标的设定过程中，有利于预算制定者收集他们所掌握的私有信息。"
   ]
  },
  {
   "cell_type": "markdown",
   "metadata": {
    "slideshow": {
     "slide_type": "slide"
    }
   },
   "source": [
    "预算执行者在提供私有信息的时候为了能够使得预算指标易于完成，会或者低估产能或者要求更多的资源，导致不必要的预算松弛（budgetary slack）的产生{Young, 1985 #1318}。"
   ]
  },
  {
   "cell_type": "markdown",
   "metadata": {
    "slideshow": {
     "slide_type": "fragment"
    }
   },
   "source": [
    "一个可行方法是将预算执行者汇报的信息与对其的奖惩挂钩。奖惩由两部分构成，一部分是关于所汇报信息的增函数，另一部分是关于所汇报信息和实际结果差异的减函数。"
   ]
  },
  {
   "cell_type": "markdown",
   "metadata": {
    "slideshow": {
     "slide_type": "fragment"
    }
   },
   "source": [
    "> 参与预算是否能够解决这个信息不对称的问题呢？"
   ]
  },
  {
   "cell_type": "markdown",
   "metadata": {
    "slideshow": {
     "slide_type": "slide"
    }
   },
   "source": [
    "- 当任务不确定性较高的时候，参与预算显著的与绩效正相关{Brownell, 1986 #1372}。\n",
    "- 在规模较大的企业中，参与预算与好的绩效之间具有很强的相关性{Merchant, 1981 #1323}。\n",
    "- 如果经营环境较为宽松（预计较为容易实现最低标准），那么参与预算能够提升预算编制的准确度；而当经营环境较为严峻的时候（预计较为难于实现最低标准），参与预算就会导致较大的预算松弛{Otley, 1978 #1327}。"
   ]
  },
  {
   "cell_type": "markdown",
   "metadata": {
    "slideshow": {
     "slide_type": "fragment"
    }
   },
   "source": [
    "由于委托代理关系的存在，预算执行者总是有动机不如实汇报私有信息，从而为自己保留有较为富裕的预算松弛。\n",
    "\n",
    "因此，学者们开始寻找能够避开主观汇报而可以获取预算指标真值的方式。"
   ]
  },
  {
   "cell_type": "markdown",
   "metadata": {
    "slideshow": {
     "slide_type": "slide"
    }
   },
   "source": [
    "基于作业成本的预算（activity-based budgeting）\n",
    "\n",
    "- 该方法首先利用作业消耗率（activity consumption rate）将预测的产品、服务、客户分解为作业单元，然后再利用资源消耗率（resource consumption rate）将每个作业单元分解为所需的各种资源消耗，从而形成经营预算，在此之后再生成相应的财务预算，企业可以通过观察生成的财务预算是否满足预设的预算目标而判断预算是否平衡{Hansen, 2003 #1335}。\n",
    "\n",
    "- 财务预算可以按照作业、资源进行分解，从而能够削弱财务预算与业务之间“两张皮”的弊病。\n",
    "- 然而，预算指标真值的可靠性依赖于作业单元划分的科学，作业消耗率和资源消耗率的准确，而这些则需要企业长期的积累。\n",
    "- 作为基于作业成本方法核心的作业消耗率和资源消耗率本身也需要真实信息的支持。目前，在企业中逐渐普及的以ERP为代表的信息系统为解决该问题提供了一条切实可行的途径。信息系统强大的存储能力可以记录实时发生的经营信息，企业可以从这些较为客观的历史数据中计算出较为可靠的各种消耗率。"
   ]
  },
  {
   "cell_type": "markdown",
   "metadata": {
    "slideshow": {
     "slide_type": "slide"
    }
   },
   "source": [
    "## 预算与绩效管理"
   ]
  },
  {
   "cell_type": "markdown",
   "metadata": {
    "slideshow": {
     "slide_type": "fragment"
    }
   },
   "source": [
    "预算里包含一系列的经营目标，自然的成为激励手段和绩效考核指标。"
   ]
  },
  {
   "cell_type": "markdown",
   "metadata": {
    "slideshow": {
     "slide_type": "slide"
    }
   },
   "source": [
    "### 预算是否适合作为绩效考核的指标？"
   ]
  },
  {
   "cell_type": "markdown",
   "metadata": {
    "slideshow": {
     "slide_type": "fragment"
    }
   },
   "source": [
    "- 以预算为主。预算导向的考核，完全以是否完成预算作为考核标准；\n",
    "- 预算作为主要但非唯一指标；\n",
    "- 预算不作为考核指标。以非财务会计指标作为考核的标准{Hopwood, 1972 #1383}。"
   ]
  },
  {
   "cell_type": "markdown",
   "metadata": {
    "slideshow": {
     "slide_type": "slide"
    }
   },
   "source": [
    "支持： \n",
    "\n",
    "- 在较大规模的企业中，预算导向的考核能够取得比在较小规模企业中更好的经营绩效{Merchant, 1981 #1323}。\n",
    "- 当参与预算程度较低的时候，好的绩效与预算导向的考核正相关，而当参与预算程度较高的时候，好的绩效与预算导向的考核负相关{Aranya, 1990 #1333}。"
   ]
  },
  {
   "cell_type": "markdown",
   "metadata": {
    "slideshow": {
     "slide_type": "fragment"
    }
   },
   "source": [
    "反对：\n",
    "\n",
    "- 事前编制的预算并不能够充分考虑到实际经营状况，因而将其作为绩效考核的指标并不合理，这一部分研究倡导用相对标杆（同一企业内的不同部门进行比较，与同行业的先进企业进行比较等）作为考核的基础，可以提升考核的公平性{Hansen, 2003 #1335}。"
   ]
  },
  {
   "cell_type": "markdown",
   "metadata": {
    "slideshow": {
     "slide_type": "slide"
    }
   },
   "source": [
    "### 预算松弛度的设定"
   ]
  },
  {
   "cell_type": "markdown",
   "metadata": {
    "slideshow": {
     "slide_type": "fragment"
    }
   },
   "source": [
    "最优的预算指标应当含有一定的预算松弛度{Kirby, 1991 #1310}。根据这样的研究结论，如果令y表示预算指标，x表示预算指标的真值，$\\theta$表示预算松弛度（由预算制定者设置），那么预算指标可以表示为，\n",
    "$$ y = x + \\theta$$"
   ]
  },
  {
   "cell_type": "markdown",
   "metadata": {
    "slideshow": {
     "slide_type": "fragment"
    }
   },
   "source": [
    "- 一种观点：预算松弛度设置的越紧越好。预算松弛度不能太过富裕，否则预算过于宽松，易于实现，导致预算执行者的工作努力程度不足、资源的浪费。"
   ]
  },
  {
   "cell_type": "markdown",
   "metadata": {
    "slideshow": {
     "slide_type": "slide"
    }
   },
   "source": [
    "支持：\n",
    " - 预算指标应当制定的有较大难度但是仍然可以实现（tough but achievable）{Shillinglaw, 1982 #1373}。\n",
    " - 较紧的预算松弛度与个人绩效和组织绩效都正相关{Simons, 1988 #1385;Waller, 1985 #1386}。"
   ]
  },
  {
   "cell_type": "markdown",
   "metadata": {
    "slideshow": {
     "slide_type": "fragment"
    }
   },
   "source": [
    "反对\n",
    "\n",
    "- 通过访谈和问卷调研，当预算松弛度处于中等水平，即既不太紧也不太松的时候，此时的预算指标最能够激励预算执行者的工作努力程度{Hofstede, 1967 #1374}。\n",
    "- 一项实地研究发现大多数企业的预算指标都制定的相对容易实现，这种较为富裕的预算松弛度一方面可以增加预算执行者的积极性，另一方面可以简化预算制定者在资源规划、控制等方面的管理负担{Merchant, 1989 #1313}。\n",
    "- 中等难度的预算指标不仅可以带来最高的绩效，而且此时绩效的波动性也最小{Fisher, 2003 #1329}。\n",
    "- 预算执行者会经历由于他们的工作结果会受到外部不确定性因素的影响而产生的对预算的不满情绪，在预算指标设定过程中由于与自己上级争执导致的与预算制定者之间较差的人际关系{Hopwood, 1972 #1383}。\n",
    "- 希望做出对企业长远有利的决策但是不得不按照预算重视短期利益而造成的角色冲突{Argyris, 1953 #1371}。\n",
    "- 较紧的预算松弛度会导致预算执行者的焦虑情绪，从而降低他们的绩效{Shields, 2000 #1352}。"
   ]
  },
  {
   "cell_type": "markdown",
   "metadata": {
    "slideshow": {
     "slide_type": "slide"
    }
   },
   "source": [
    "其他结论：\n",
    "\n",
    "- 在面临较为稳定经营环境的集权企业适宜设定较紧的预算松弛度，而在面临不确定经营环境的分权企业适宜设定较为富裕的预算松弛度{Covaleski, 2003 #1337}。\n",
    "- 当任务不确定性程度较低的时候，设定较紧的预算松弛度对绩效的影响效果要显著优于当任务不确定性程度较高时候的效果{Hirst, 1987 #1314}。\n"
   ]
  },
  {
   "cell_type": "markdown",
   "metadata": {
    "slideshow": {
     "slide_type": "slide"
    }
   },
   "source": [
    "### 预算导向考核形式的设计"
   ]
  },
  {
   "cell_type": "markdown",
   "metadata": {
    "slideshow": {
     "slide_type": "fragment"
    }
   },
   "source": [
    "Demski和Feltham{, 1978 #1388}提出了两种预算考核形式，如果令$z$为实际产出，$y$为预算指标，则有\n",
    "\\begin{cases}\n",
    "B_1, &z\\ge y \\\\\n",
    "\\alpha z, &z<y\n",
    "\\end{cases}\n",
    "\\begin{cases}\n",
    "   B_1, &z\\ge y \\\\\n",
    "   B_2, &z<y        \n",
    "\\end{cases}\n",
    "其中，$B_1$和$B_2$为相应情况下对应的固定报酬，$\\alpha$为单位产出报酬率。"
   ]
  },
  {
   "cell_type": "markdown",
   "metadata": {
    "slideshow": {
     "slide_type": "fragment"
    }
   },
   "source": [
    "研究结论：\n",
    "\n",
    "当预算执行者是风险规避的，而预算制定者是风险中性的时候，以上合同形式(1)和形式(2)比随着产出同比例增加的线性激励合同$\\alpha z$更能够促进员工付出更大的努力，带来帕累托改进{Demski, 1978 #1388}。"
   ]
  },
  {
   "cell_type": "markdown",
   "metadata": {
    "slideshow": {
     "slide_type": "slide"
    }
   },
   "source": [
    "Fisher等{, 2003 #1329}提出了一种如下所示的预算考核形式，\n",
    "\\begin{cases}\n",
    "   B_1+\\alpha(z-y), &z\\ge y \\\\\n",
    "   B_2, &z<y        \n",
    "\\end{cases}"
   ]
  },
  {
   "cell_type": "markdown",
   "metadata": {
    "slideshow": {
     "slide_type": "fragment"
    }
   },
   "source": [
    "他们的研究结果验证了Demski和Feltham的结论，即预算导向的考核对绩效的积极影响作用要优于线性形式。同时，他们还发现预算导向形式(3)的效果最优。另一项实验研究也证实预算导向形式(3)在促使群体绩效方面的积极效果{Libby, 2009 #1387}。"
   ]
  },
  {
   "cell_type": "markdown",
   "metadata": {
    "slideshow": {
     "slide_type": "slide"
    }
   },
   "source": [
    "## 预算编制的模式"
   ]
  },
  {
   "cell_type": "markdown",
   "metadata": {
    "slideshow": {
     "slide_type": "fragment"
    }
   },
   "source": [
    "企业的预算都以年度为时间单位展开，那么上一年度的预算对本年度预算的影响对应着两种类型的预算编制模式。"
   ]
  },
  {
   "cell_type": "markdown",
   "metadata": {
    "slideshow": {
     "slide_type": "fragment"
    }
   },
   "source": [
    "- 一种模式可以称之为增量式，以上一年度的预算作为基础，本年度的预算根据年度要求在此基础上调整形成。该类型的预算编制模式暗含之前的预算都有合理性，可以作为后续预算的编制参考，较为适合于在较为稳定的经营环境中采用。\n",
    "- 第二种预算编制模式则认为之前做出的预算都是不可靠的，因此主张在每一年度的开始根据预算输入指标，重新进行预算编制工作，称之为“零基预算”（zero-based budget)。虽然该类型预算编制模式相对准确，但是由于每年度都要重新开始，因此编制难度较大。"
   ]
  },
  {
   "cell_type": "markdown",
   "metadata": {
    "slideshow": {
     "slide_type": "slide"
    }
   },
   "source": [
    "- 第三种预算编制模式则认为预算并不是静态，而是一个动态的更新过程，因此主张根据经营的开展，不断调整预算，形成滚动预算（rolling budget）{王月欣, 2004 #1382}。该类型的预算编制模式较为适宜于经营环境变动较大的情境。"
   ]
  },
  {
   "cell_type": "markdown",
   "metadata": {
    "slideshow": {
     "slide_type": "slide"
    }
   },
   "source": [
    "## 全面预算管理"
   ]
  },
  {
   "cell_type": "markdown",
   "metadata": {
    "slideshow": {
     "slide_type": "fragment"
    }
   },
   "source": [
    "我国的现代企业预算管理起步于20世纪90年代，开始以财务预算为主，随着现代企业管理流程的逐步完善，实务界和理论界均认识到了预算的全方位性和重要性，于是，学者们提出了“全面预算管理”的概念{高晨, 2007 #1151;张长胜, 2007 #1347}。"
   ]
  },
  {
   "cell_type": "markdown",
   "metadata": {
    "slideshow": {
     "slide_type": "fragment"
    }
   },
   "source": [
    "- 从横向的管理内容来看，全面预算管理包括财务预算、资本预算、采购预算、生产预算、费用预算等内容{史习民, 2003 #1345}。\n",
    "- 从纵向的经营流程来看，全面预算管理经历了对企业战略目标的分解、资源的优化分配、任务的执行与衡量，以至最终的考核与奖惩。此外还存在相应的组织制度保障预算的实施{汤谷良, 2000 #1346}。"
   ]
  }
 ],
 "metadata": {
  "celltoolbar": "幻灯片",
  "hide_input": false,
  "kernelspec": {
   "display_name": "Python 3",
   "language": "python",
   "name": "python3"
  },
  "language_info": {
   "codemirror_mode": {
    "name": "ipython",
    "version": 3
   },
   "file_extension": ".py",
   "mimetype": "text/x-python",
   "name": "python",
   "nbconvert_exporter": "python",
   "pygments_lexer": "ipython3",
   "version": "3.6.8"
  },
  "toc": {
   "base_numbering": 1,
   "nav_menu": {},
   "number_sections": true,
   "sideBar": true,
   "skip_h1_title": false,
   "title_cell": "Table of Contents",
   "title_sidebar": "Contents",
   "toc_cell": false,
   "toc_position": {
    "height": "calc(100% - 180px)",
    "left": "10px",
    "top": "150px",
    "width": "217.912px"
   },
   "toc_section_display": true,
   "toc_window_display": false
  }
 },
 "nbformat": 4,
 "nbformat_minor": 4
}
