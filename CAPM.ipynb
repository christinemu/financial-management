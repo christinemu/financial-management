{
 "cells": [
  {
   "cell_type": "markdown",
   "metadata": {},
   "source": [
    "# 资本资产定价模型"
   ]
  },
  {
   "cell_type": "markdown",
   "metadata": {},
   "source": []
  },
  {
   "cell_type": "markdown",
   "metadata": {},
   "source": [
    "## 资本分配线(Capital Allocation Line)"
   ]
  },
  {
   "cell_type": "markdown",
   "metadata": {},
   "source": [
    "我们在投资组合中，以y的比例用于风险组合，以（1-y）的比例投资于无风险产品。\n",
    "- 整个投资组合用c（complete）来表示，期望回报率$E(r_c)$，回报率的不确定性$\\sigma_c$\n",
    "- 其中的风险组合用p（partial）来表示，期望回报率$E(r_p)$，回报率的不确定性$\\sigma_p$\n",
    "- 无风险回报率用 $r_f$表示"
   ]
  },
  {
   "cell_type": "markdown",
   "metadata": {},
   "source": [
    "$r_c = yr_p+(1-y)r_f$"
   ]
  },
  {
   "cell_type": "markdown",
   "metadata": {},
   "source": [
    "两边取期望\n",
    "\n",
    "$\\begin{align}\n",
    "E(r_c) &= yE(r_p)+(1-y)r_f\\\\\n",
    "       &= r_f + y[E(r_p)-r_f]\n",
    "\\end{align}$"
   ]
  },
  {
   "cell_type": "markdown",
   "metadata": {},
   "source": [
    "含义：整个投资组合的期望回报率等于无风险利率加上一个风险溢价(risk premium)"
   ]
  },
  {
   "cell_type": "markdown",
   "metadata": {},
   "source": [
    "把$\\sigma_c = y\\sigma_p$ 代入可以得到"
   ]
  },
  {
   "cell_type": "markdown",
   "metadata": {},
   "source": [
    "<img src=\"capital allocation line.png\">"
   ]
  },
  {
   "cell_type": "markdown",
   "metadata": {},
   "source": [
    "资本分配线（CAL）描述了每个投资者的风险与回报的组合关系。（什么样的风险对应什么样的回报率）"
   ]
  },
  {
   "cell_type": "markdown",
   "metadata": {},
   "source": [
    "假设个人投资者的效用\n",
    "\n",
    "$E(U) = E(r_c) - b_0 \\sigma_c^2$"
   ]
  },
  {
   "cell_type": "markdown",
   "metadata": {},
   "source": [
    "现在把右侧转换成p的函数"
   ]
  },
  {
   "cell_type": "markdown",
   "metadata": {},
   "source": [
    "$\\begin{align}\n",
    "E(U) = r_f + y[E(r_p)-r_f]- b_0 y^2\\sigma_p^2\n",
    "\\end{align}$"
   ]
  },
  {
   "cell_type": "markdown",
   "metadata": {},
   "source": [
    "$max _yE(U)$"
   ]
  },
  {
   "cell_type": "markdown",
   "metadata": {},
   "source": [
    "$y^* = \\frac{E(r_p)-r_f}{2b_0\\sigma_p^2}$"
   ]
  },
  {
   "cell_type": "markdown",
   "metadata": {},
   "source": [
    "解决了问题：如何在风险投资和无风险投资中进行分配。"
   ]
  },
  {
   "cell_type": "markdown",
   "metadata": {},
   "source": [
    "风险组合的有效前沿（Efficient Frontier of Risky Portfolio）"
   ]
  },
  {
   "cell_type": "markdown",
   "metadata": {},
   "source": [
    "假设风险组合P中，有两只股票S和D，期望分别为$E(r_S)$和$E(r_D)$，风险分别为$\\sigma_S$和$\\sigma_D$。两只股票的权重分别为$w_S$和$w_D$。"
   ]
  },
  {
   "cell_type": "markdown",
   "metadata": {},
   "source": [
    "整个组合P的期望回报率和风险分别为"
   ]
  },
  {
   "cell_type": "markdown",
   "metadata": {},
   "source": [
    "$\\begin{align}\n",
    "\\sigma_p^2 &= w_S^2\\sigma_s^2+w_D^2\\sigma_D^2+2w_Sw_DCov(r_S, r_D)\\\\\n",
    "E(r_p) &= w_SE(r_S)+w_DE(r_D)\\\\\n",
    "&其中 w_S+w_D = 1\n",
    "\\end{align}$"
   ]
  },
  {
   "cell_type": "markdown",
   "metadata": {},
   "source": [
    "给定$E(r_S)$、$E(r_D)$、$\\sigma_S$、$\\sigma_D$，下面我们要建立$E(r_P)$和$\\sigma_P$之间的关系"
   ]
  },
  {
   "cell_type": "markdown",
   "metadata": {},
   "source": [
    "<img src='efficient frontier of risky portfolio.png'>"
   ]
  },
  {
   "cell_type": "markdown",
   "metadata": {},
   "source": [
    "均值-方差准则（Mean-Variance Criteria）：如果$E(r_A)\\ge E(r_B)$，$\\sigma_A \\le \\sigma_B$，并且两个等号不同时成立，则组合A占优于组合B。"
   ]
  },
  {
   "cell_type": "markdown",
   "metadata": {},
   "source": [
    "<img src='efficient and iefficient frontier.png\n",
    "'>"
   ]
  },
  {
   "cell_type": "markdown",
   "metadata": {},
   "source": [
    "如何在风险组合P中分配各个股票的权重呢？"
   ]
  },
  {
   "cell_type": "markdown",
   "metadata": {},
   "source": [
    "目标函数\n",
    "\n",
    "<img src='tangency formula.png'>"
   ]
  },
  {
   "cell_type": "markdown",
   "metadata": {},
   "source": [
    "<img src='tangency portfolio.png'>"
   ]
  },
  {
   "cell_type": "markdown",
   "metadata": {},
   "source": [
    "可见，所有投资者都会得出相同权重的投资组合，尽管他们的风险厌恶程度各不相同"
   ]
  },
  {
   "cell_type": "markdown",
   "metadata": {},
   "source": [
    "## 资本市场线（Capital Market Line）"
   ]
  },
  {
   "cell_type": "markdown",
   "metadata": {},
   "source": [
    "<img src='CML.png'>"
   ]
  },
  {
   "cell_type": "markdown",
   "metadata": {},
   "source": [
    "- All investors will hold a portfolio of risky assets in proportions that duplicate the shares of assets in the market portfolio (M)\n",
    "- 所有资产都在这个市场组合M中\n",
    "- 一个被动投资策略"
   ]
  },
  {
   "cell_type": "markdown",
   "metadata": {},
   "source": [
    "美国1926-1999年的数据显示，被动策略的风险溢价达到9.3%，标准差为0.26，单位风险回报率（reward-to-variability）为 0.45。"
   ]
  },
  {
   "cell_type": "markdown",
   "metadata": {},
   "source": [
    "## CAPM"
   ]
  },
  {
   "cell_type": "markdown",
   "metadata": {},
   "source": [
    "<img src='capm-delta on market portfolio.png'>"
   ]
  },
  {
   "cell_type": "markdown",
   "metadata": {},
   "source": [
    "<img src='capm-delta on GM stock.png'>"
   ]
  },
  {
   "cell_type": "markdown",
   "metadata": {},
   "source": [
    "<img src='capm formula.png'>"
   ]
  },
  {
   "cell_type": "markdown",
   "metadata": {},
   "source": [
    "$\\beta$的含义：\n",
    "- 最小二乘的回归系数，表明了两个风险溢价之间的线性变化关系。\n",
    "- 该股票的系统风险？\n",
    "- 什么样回报率配什么样的风险\n",
    "- 资产$\\beta$\n",
    "- A股个股$\\beta$表"
   ]
  },
  {
   "cell_type": "markdown",
   "metadata": {},
   "source": [
    "证券市场线（Security Market Line）"
   ]
  },
  {
   "cell_type": "markdown",
   "metadata": {},
   "source": [
    "- 描述了资产的期望回报率与$\\beta$之间的关系\n",
    "- 为评估资产的投资表现提供了评价标准"
   ]
  },
  {
   "cell_type": "markdown",
   "metadata": {},
   "source": [
    "<img src='security market line.png'>"
   ]
  },
  {
   "cell_type": "markdown",
   "metadata": {},
   "source": [
    "## CAPM的应用"
   ]
  },
  {
   "cell_type": "markdown",
   "metadata": {},
   "source": [
    "- 如果计算出$\\beta = 13\\%$,但是实际的$\\beta=9\\%$,可以考虑股价被低估的可能。\n",
    "- 作为权益资本成本，用于投资项目的折现率。"
   ]
  },
  {
   "cell_type": "markdown",
   "metadata": {},
   "source": [
    "## CAPM的假设"
   ]
  },
  {
   "cell_type": "markdown",
   "metadata": {},
   "source": [
    "- 市场有效性\n",
    "- 风险偏好相同\n",
    "- 无风险利率的取值"
   ]
  },
  {
   "cell_type": "markdown",
   "metadata": {
    "slideshow": {
     "slide_type": "slide"
    }
   },
   "source": [
    "## Fama-French三因子模型"
   ]
  },
  {
   "cell_type": "markdown",
   "metadata": {
    "slideshow": {
     "slide_type": "fragment"
    }
   },
   "source": [
    "\\begin{equation}\n",
    "  E(r_i)=r_f+\\beta_1\\left(E(r_m)-r_f\\right)+\\beta_2E(SMB)+\\beta_3E(HML)\n",
    "\\end{equation}"
   ]
  },
  {
   "cell_type": "markdown",
   "metadata": {
    "slideshow": {
     "slide_type": "fragment"
    }
   },
   "source": [
    "（1）$SMB$"
   ]
  },
  {
   "cell_type": "markdown",
   "metadata": {
    "slideshow": {
     "slide_type": "fragment"
    }
   },
   "source": [
    "- Small Minus Big，市值因子"
   ]
  },
  {
   "cell_type": "markdown",
   "metadata": {
    "slideshow": {
     "slide_type": "fragment"
    }
   },
   "source": [
    "- 小市值（market captilization）公司的股票回报会超过大市值公司的股票回报"
   ]
  },
  {
   "cell_type": "markdown",
   "metadata": {
    "slideshow": {
     "slide_type": "slide"
    }
   },
   "source": [
    "（2） $HML$"
   ]
  },
  {
   "cell_type": "markdown",
   "metadata": {
    "slideshow": {
     "slide_type": "fragment"
    }
   },
   "source": [
    "- High Minus Low，账面市值比"
   ]
  },
  {
   "cell_type": "markdown",
   "metadata": {
    "slideshow": {
     "slide_type": "fragment"
    }
   },
   "source": [
    "- 高账面市值比（价值股）公司的股票回报会超过低账面市值比（成长股）公司的股票回报"
   ]
  },
  {
   "cell_type": "markdown",
   "metadata": {},
   "source": [
    "# 有效市场假说"
   ]
  },
  {
   "cell_type": "markdown",
   "metadata": {},
   "source": [
    "有效市场假说(The efficient market hypothesis, EMH)，又称有效市场理论，是一种假设，认为股票价格反映所有信息，不可能持续产生超额回报。"
   ]
  },
  {
   "cell_type": "markdown",
   "metadata": {},
   "source": [
    "- 股票总是按照合理的价值在交易，不可能按照低于合理价值的价格买入，或按照高于合理价值的价格卖出。\n",
    "- 因此，投资者不可能通过一些选股方法或掌握时机进行买卖以超过市场组合的表现。\n",
    "- 投资者要想获得超过市场水平的收益率，只能提高投资风险。\n",
    "- 股票的价格已经反映出了跟其有关的全部信息。\n"
   ]
  },
  {
   "cell_type": "markdown",
   "metadata": {},
   "source": [
    "## 支持的证据"
   ]
  },
  {
   "cell_type": "markdown",
   "metadata": {},
   "source": [
    "随机游走\n",
    "- 随机变量没有所服从的可辨认的趋势，看起来像随机移动。\n",
    "- Karl Pearson, a statistician, coined this term in Nature in 1905 \n",
    "- Norbert Wiener, a mathematician, invented a continuous version of the Random Walk, called the Wiener Process."
   ]
  },
  {
   "cell_type": "markdown",
   "metadata": {},
   "source": [
    "$X_{t+1} = X_t + \\epsilon_t$\n",
    "\n",
    "其中 $\\epsilon_t$是一个服从正态分布的噪声。"
   ]
  },
  {
   "cell_type": "markdown",
   "metadata": {},
   "source": [
    "<img src='random walk.png'>"
   ]
  },
  {
   "cell_type": "markdown",
   "metadata": {},
   "source": [
    "<img src='wall street dartboard contest.png'>"
   ]
  },
  {
   "cell_type": "markdown",
   "metadata": {},
   "source": [
    "## 反对的证据"
   ]
  },
  {
   "cell_type": "markdown",
   "metadata": {},
   "source": [
    "技术分析\n",
    "- 技术分析是通过查看价格图表并寻找价格运动的模式,对股票价格或其他投机资产价格的分析"
   ]
  },
  {
   "cell_type": "markdown",
   "metadata": {},
   "source": [
    "假设\n",
    "- 市场行为包容消化一切影响价格的任何因素：基本面、政治因素、心理因素等等因素都要最终通过买卖反映在价格中\n",
    "- 历史会重演"
   ]
  },
  {
   "cell_type": "markdown",
   "metadata": {},
   "source": [
    "<img src='ma20-100.png'>"
   ]
  },
  {
   "cell_type": "markdown",
   "metadata": {},
   "source": [
    "<img src='band.png'>"
   ]
  },
  {
   "cell_type": "markdown",
   "metadata": {},
   "source": [
    "<img src='support and resistance level.png'>"
   ]
  },
  {
   "cell_type": "markdown",
   "metadata": {},
   "source": [
    "<img src='support and resistance level 2.png'>"
   ]
  },
  {
   "cell_type": "markdown",
   "metadata": {},
   "source": [
    "<img src='descending trangles.jpg'>"
   ]
  },
  {
   "cell_type": "markdown",
   "metadata": {},
   "source": [
    "<img src='head and shoulders.png'>"
   ]
  },
  {
   "cell_type": "markdown",
   "metadata": {},
   "source": [
    "市场中有不到1%的人能够持续的打败市场。—— Robert J. Shiller，《非理性繁荣》\n",
    "<img src='shiller.png'>"
   ]
  },
  {
   "cell_type": "markdown",
   "metadata": {},
   "source": [
    "<img src = 'efficient markets hypothesis.png'>"
   ]
  }
 ],
 "metadata": {
  "hide_input": false,
  "kernelspec": {
   "display_name": "Python 3",
   "language": "python",
   "name": "python3"
  },
  "language_info": {
   "codemirror_mode": {
    "name": "ipython",
    "version": 3
   },
   "file_extension": ".py",
   "mimetype": "text/x-python",
   "name": "python",
   "nbconvert_exporter": "python",
   "pygments_lexer": "ipython3",
   "version": "3.6.8"
  },
  "toc": {
   "base_numbering": 1,
   "nav_menu": {},
   "number_sections": true,
   "sideBar": true,
   "skip_h1_title": false,
   "title_cell": "Table of Contents",
   "title_sidebar": "Contents",
   "toc_cell": false,
   "toc_position": {},
   "toc_section_display": true,
   "toc_window_display": true
  }
 },
 "nbformat": 4,
 "nbformat_minor": 4
}
