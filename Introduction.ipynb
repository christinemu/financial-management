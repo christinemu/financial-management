{
 "cells": [
  {
   "cell_type": "markdown",
   "metadata": {
    "slideshow": {
     "slide_type": "slide"
    }
   },
   "source": [
    "<div class=\"jumbotron\">\n",
    "    <h1 class=\"display-1\">财务管理</h1>\n",
    "    <hr class=\"my-4\">\n",
    "    <p>主讲：牟博佼</p>\n",
    "    <p>经济管理学院</p>\n",
    "    <p>mubojiao@cugb.edu.cn</p>\n",
    "</div>"
   ]
  },
  {
   "cell_type": "markdown",
   "metadata": {
    "slideshow": {
     "slide_type": "slide"
    }
   },
   "source": [
    "\n",
    "# 自我介绍\n",
    "\n",
    "- 2005-2011，清华大学经济管理学院，管理科学与工程系，博士研究生；\n",
    "- 2011-2013，神华集团（国家能源集团公司），博士后；\n",
    "- 2013-2016，神华销售集团公司，期货交易员、营销部高级经理；\n",
    "- 2016-2018年，中核产业基金公司，基金经理(投资处副处长)；\n",
    "- 2019年-至今，中国地质大学（北京）经济管理学院，管理科学与工程系，讲师；\n",
    "- 讲授课程：**大数据分析，Python程序设计，财务管理，金融量化交易系统**。"
   ]
  },
  {
   "cell_type": "markdown",
   "metadata": {
    "slideshow": {
     "slide_type": "slide"
    }
   },
   "source": [
    "# 第一章 为什么要学习财务管理"
   ]
  },
  {
   "cell_type": "markdown",
   "metadata": {
    "slideshow": {
     "slide_type": "slide"
    }
   },
   "source": [
    "\n",
    "## 财务管理内容"
   ]
  },
  {
   "cell_type": "markdown",
   "metadata": {
    "slideshow": {
     "slide_type": "fragment"
    }
   },
   "source": [
    "**财务管理**(Financial Management)是企业管理的一个组成部分，它是根据财经法规制度，**组织企业财务活动**、**处理财务关系**的一项经济管理工作。"
   ]
  },
  {
   "cell_type": "markdown",
   "metadata": {
    "slideshow": {
     "slide_type": "fragment"
    }
   },
   "source": [
    "**财务活动**，是以现金收支为主的企业资金收支活动的总称，包括企业筹资引起的财务活动，企业投资引起的财务活动，企业经营引起的财务活动，企业分配引起的财务活动。"
   ]
  },
  {
   "cell_type": "markdown",
   "metadata": {
    "slideshow": {
     "slide_type": "slide"
    }
   },
   "source": [
    "**财务关系**(financial relations) ，是指企业在组织财务活动过程中与有关各方面发生的经济利益关系。"
   ]
  },
  {
   "cell_type": "markdown",
   "metadata": {
    "slideshow": {
     "slide_type": "fragment"
    }
   },
   "source": [
    "- 企业与国家之间\n",
    "- 企业与出资者之间\n",
    "- 企业与债权人之间\n",
    "- 企业与受资者之间\n",
    "- 企业与债务人之间\n",
    "- 企业内部各单位之间\n",
    "- 企业与职工之间\n",
    "- 企业与董事会、监事会"
   ]
  },
  {
   "cell_type": "markdown",
   "metadata": {
    "slideshow": {
     "slide_type": "skip"
    }
   },
   "source": [
    "（1）企业与国家之间\n",
    "\n",
    "国家作为社会管理者,担负着维护社会正常秩序、保卫国家安全、组织和管理社会活动等任务,为企业生产经营活动提供公平竞争的经营环境和公共设施等条件。为此所发挥的社会费用，须从受益企业的生产费用中扣除，从而形成具有强制性的纳税义务。因此,国家以收缴各种税费的形式,与企业之间产生财务关系。企业应照章纳税。是一种强制性分配关系\n",
    "\n",
    "（2）企业与出资者之间\n",
    "\n",
    "是指投资者向企业投入资金，企业向其支付投资报酬所形成的经济关系。\n",
    "企业的所有者要按照投资合同、协议、章程的约定履行出资义务以便及时形成企业的资本，同时，拥有参与或监督企业经营、参与企业剩余权益分配，并承担一定的风险；管理企业利用资本进行营运，对出资者有承担资本保值、增值的责任，实现利润后，应该按照出资比例或合同、章程的规定，向其所有者支付报酬。一般而言，所有者的出资不同，他们各自对企业承担的责任也不同，相应对企业享有的权利和利益也不相同。\n",
    "因此，企业与所有者之间的关系是风险与共和以资本保值、增值为核心的剩余权益分配关系，体现着一种经营权与所有权关系。\n",
    "\n",
    "（3）企业与债权人之间\n",
    "\n",
    "是指企业向债权人借人资金，并按借款合同的规定按时支付利息和归还本金所形成的经济关系。\n",
    "企业除利用资本进行经营活动外，还要借入一定数量的资金，以便降低企业资金成本，扩大企业经营规模。企业利用债权人的资金，要按约定的利息率，及时向债权人支付利息；债务到期时，要合理调度资金，按时向债权人归还本金。\n",
    "因此，企业与债权人之间的关系是建立在契约之上的债务----债权关系。\n",
    "\n",
    "（4）企业与受资者之间\n",
    "\n",
    "是企业以购买股票或直接投资的形式向其他企业投资形成的经济利益关系.\n",
    "是体现所有权性质的投资与受资的关系。\n",
    "\n",
    "（5）企业与债务人之间\n",
    "\n",
    "是指企业将其资金以购买债券、提供借款或商业信用等形式出借给其他单位所形成的经济关系。企业将资金借出后，有权要求其债务人按约定的条件支付利息和归还本金。\n",
    "企业与债务人之间的关系也就是债权----债务关系。\n",
    "\n",
    "（6）企业内部各单位之间\n",
    "\n",
    "是指企业内部各单位之间在生产经营各环节中相互提供产品或劳务所形成的经济利益关系。\n",
    "企业在实行厂内经济核算制和企业内部经营责任制的条件下，企业供、产、销各个部门以及各个生产单位之间，相互提供劳务和产品要计价结算。\n",
    "这种在企业内部资金使用中的权责关系、利益分配关系与内部结算关系，体现了企业内部各单位之间的经济利益关系。\n",
    "\n",
    "（7）企业与职工之间\n",
    "\n",
    "是指企业向职工支付劳动报酬过程中所形成的经济关系。\n",
    "职工是企业的劳动者，他们以自身提供的劳动作为参加企业分配的依据。企业根据经营者的职务能力和经营能力高低，根据一般职工业务能力和劳动业绩大小，用其收入向职工支付工薪、津贴和奖金，并按规定提取公益金等。\n",
    "企业与职工之间是以权、责、劳、绩为依据的在劳动成果上的分配关系。\n",
    "\n",
    "（8）企业与董事会、监事会\n",
    "\n",
    "董事会决定企业经营计划和投资方案，制定企业年度财务预决算、利润分配、弥补亏损和增减注册资本等方案，企业要为董事会支付董事会经费，因此，企业与董事会之间发生经济利益关系。监事会负责检查企业财务，企业执行董事会决议的一切财务收支，都要接受监事会的检查监督，同时企业也要支付一部分监事会经费，因此，也与企业发生经济利益关系。"
   ]
  },
  {
   "cell_type": "markdown",
   "metadata": {
    "slideshow": {
     "slide_type": "skip"
    }
   },
   "source": [
    "搞好内政、外交是企业的经营之道，也是财务部门日常工作的主要内容。总之，应正确处理和协调与各有关方面的财务关系，取得国家、投资者和其他单位的信任，努力实现企业与其他各种财务主体之间的利益均衡，调动各个方面的积极因素，促进企业生产经营活动的正常开展，实现财务管理目标。"
   ]
  },
  {
   "cell_type": "markdown",
   "metadata": {
    "slideshow": {
     "slide_type": "skip"
    }
   },
   "source": [
    "企业的财务活动与财务关系密不可分，比如筹资活动与债权人和出资者有关，筹资活动、投资活动都与税收、董事会有关。可以说，财务关系是建立在财务活动基础之上的。由于财务关系涉及到的人与企业本身的管理目标不完全一致，因而我们在财务管理的过程中，要密切关注与利益相关人关系的协调，使得财务活动朝着企业管理的目标迈进。关于相关关系的协调，会分别在筹资、投资和分配部分讲授。"
   ]
  },
  {
   "cell_type": "markdown",
   "metadata": {
    "slideshow": {
     "slide_type": "slide"
    }
   },
   "source": [
    "## 财务管理目标"
   ]
  },
  {
   "cell_type": "markdown",
   "metadata": {
    "slideshow": {
     "slide_type": "fragment"
    }
   },
   "source": [
    "既然财务管理是企业管理的组成部分，财务管理的目标应与企业管理的目标相一致。企业的管理目标是什么？"
   ]
  },
  {
   "cell_type": "markdown",
   "metadata": {
    "slideshow": {
     "slide_type": "fragment"
    }
   },
   "source": [
    "**利润最大化？**p18"
   ]
  },
  {
   "cell_type": "markdown",
   "metadata": {
    "slideshow": {
     "slide_type": "fragment"
    }
   },
   "source": [
    "- 忽视货币时间价值\n",
    "- 没有反映所得利润与投入资本额之间的比例关系\n",
    "- 短期行为\n",
    "- 忽视风险因素"
   ]
  },
  {
   "cell_type": "markdown",
   "metadata": {
    "slideshow": {
     "slide_type": "slide"
    }
   },
   "source": [
    "**股东财富最大化？**\n",
    "- 所有者权益的市场价值"
   ]
  },
  {
   "cell_type": "markdown",
   "metadata": {
    "slideshow": {
     "slide_type": "fragment"
    }
   },
   "source": [
    "**不足**\n",
    "- 有些市场波动不受企业管理者控制\n",
    "- 有些决策可能伤害债权人的利益\n"
   ]
  },
  {
   "cell_type": "markdown",
   "metadata": {
    "slideshow": {
     "slide_type": "slide"
    }
   },
   "source": [
    "**企业价值最大化？**\n",
    "- 企业资产的市场价值\n",
    "- 权益的市场价值与债权的市场价值之和"
   ]
  },
  {
   "cell_type": "markdown",
   "metadata": {
    "slideshow": {
     "slide_type": "fragment"
    }
   },
   "source": [
    "> 该目标与企业的所有利益相关人都不完全一致，那么谁来监督企业管理目标的实现？"
   ]
  },
  {
   "cell_type": "markdown",
   "metadata": {
    "slideshow": {
     "slide_type": "slide"
    }
   },
   "source": [
    "## 课程目标和结构"
   ]
  },
  {
   "cell_type": "markdown",
   "metadata": {
    "slideshow": {
     "slide_type": "slide"
    }
   },
   "source": [
    "**财务管理课程**是经济管理类专业的一门专业基础课和专业主干课，是一门关于企业价值管理、投资、融资、营运和分配的课程。"
   ]
  },
  {
   "cell_type": "markdown",
   "metadata": {
    "slideshow": {
     "slide_type": "fragment"
    }
   },
   "source": [
    "本课程的学习目标如下： \n",
    "- 建立货币时间价值、投资风险价值等现代财务理念\n",
    "- 掌握最实用的财务知识\n",
    "- 了解企业的内部治理与投融资决策\n",
    "- 提升对财经问题的敏锐度和关注度"
   ]
  },
  {
   "cell_type": "markdown",
   "metadata": {
    "slideshow": {
     "slide_type": "slide"
    }
   },
   "source": [
    "**课程结构安排**"
   ]
  },
  {
   "cell_type": "markdown",
   "metadata": {
    "slideshow": {
     "slide_type": "fragment"
    }
   },
   "source": [
    "- **投资决策**\n",
    "- **筹资决策**\n",
    "- 资本资产定价模型与有效市场假说\n",
    "- **分配决策**\n",
    "- 经营决策"
   ]
  },
  {
   "cell_type": "markdown",
   "metadata": {
    "slideshow": {
     "slide_type": "fragment"
    }
   },
   "source": [
    "> 这些财务管理决策通常由谁来做？"
   ]
  }
 ],
 "metadata": {
  "celltoolbar": "Slideshow",
  "gist": {
   "data": {
    "description": "financial-management/Introduction.ipynb",
    "public": true
   },
   "id": ""
  },
  "hide_input": false,
  "kernelspec": {
   "display_name": "Python 3",
   "language": "python",
   "name": "python3"
  },
  "language_info": {
   "codemirror_mode": {
    "name": "ipython",
    "version": 3
   },
   "file_extension": ".py",
   "mimetype": "text/x-python",
   "name": "python",
   "nbconvert_exporter": "python",
   "pygments_lexer": "ipython3",
   "version": "3.6.8"
  },
  "toc": {
   "base_numbering": "1",
   "nav_menu": {},
   "number_sections": true,
   "sideBar": true,
   "skip_h1_title": true,
   "title_cell": "Table of Contents",
   "title_sidebar": "Contents",
   "toc_cell": false,
   "toc_position": {
    "height": "calc(100% - 180px)",
    "left": "10px",
    "top": "150px",
    "width": "267px"
   },
   "toc_section_display": true,
   "toc_window_display": false
  }
 },
 "nbformat": 4,
 "nbformat_minor": 4
}
