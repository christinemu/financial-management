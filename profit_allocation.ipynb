{
 "cells": [
  {
   "cell_type": "markdown",
   "metadata": {
    "slideshow": {
     "slide_type": "slide"
    }
   },
   "source": [
    "# 第四章 利润分配政策（Payout Policy）"
   ]
  },
  {
   "cell_type": "markdown",
   "metadata": {
    "slideshow": {
     "slide_type": "fragment"
    }
   },
   "source": [
    "> 什么时候可以考虑这个问题？"
   ]
  },
  {
   "cell_type": "markdown",
   "metadata": {
    "slideshow": {
     "slide_type": "slide"
    }
   },
   "source": [
    "## 利润分配顺序"
   ]
  },
  {
   "cell_type": "markdown",
   "metadata": {
    "slideshow": {
     "slide_type": "fragment"
    }
   },
   "source": [
    "（一）用税前利润弥补五年内的企业亏损\n",
    "    - 企业财务通则规定，企业发生的年度亏损，可以用下一年度的税前利润弥补；\n",
    "    - 下一年度利润不足弥补的，可以在五年内用所得税税前利润延续弥补；\n",
    "    - 延续五年未弥补完的亏损，用税后利润弥补。"
   ]
  },
  {
   "cell_type": "markdown",
   "metadata": {
    "slideshow": {
     "slide_type": "slide"
    }
   },
   "source": [
    "（二）缴纳所得税 ———— 25%\n",
    "\n",
    "自2019年1月1日至2021年12月31日，对小型微利企业年应纳税所得额不超过100万元的部分，减按25%计入应纳税所得额，按20%的税率缴纳企业所得税；对年应纳税所得额超过100万元但不超过300万元的部分，减按50%计入应纳税所得额，按20%的税率缴纳企业所得税。\n",
    "\n",
    "小型微利企业是指从事国家非限制和禁止行业，且同时符合以下三个条件的企业：\n",
    "\n",
    "1. 年度应纳税所得额不超过300万元\n",
    "\n",
    "2. 从业人数不超过300人\n",
    "\n",
    "3. 资产总额不超过5000万元"
   ]
  },
  {
   "cell_type": "markdown",
   "metadata": {
    "slideshow": {
     "slide_type": "slide"
    }
   },
   "source": [
    "（三）税后利润去向\n",
    "    - 支付被没收财务的损失和违反税法规定而支付的滞纳金及罚款。\n",
    "    - 弥补五年前的亏损。\n",
    "    - 提取法定公积金（按照税后利润的10%提取，达到注册资本的50%时可以不再提取），用于弥补亏损或按照国家规定转增资本金等。\n",
    "    - 提取公益金，用于职工的集体福利设施支出。\n",
    "    - **向投资者分配利润**。\n",
    "    "
   ]
  },
  {
   "cell_type": "markdown",
   "metadata": {
    "slideshow": {
     "slide_type": "slide"
    }
   },
   "source": [
    "利润分配策略有两类：\n",
    "- 股利分配 （dividend payout）\n",
    "- 股份回购 (stock repurchase)"
   ]
  },
  {
   "cell_type": "markdown",
   "metadata": {
    "slideshow": {
     "slide_type": "slide"
    }
   },
   "source": [
    "<img src=\"dividend and repurchase in the US.png\">"
   ]
  },
  {
   "cell_type": "markdown",
   "metadata": {
    "slideshow": {
     "slide_type": "slide"
    }
   },
   "source": [
    "## 股利"
   ]
  },
  {
   "cell_type": "markdown",
   "metadata": {
    "slideshow": {
     "slide_type": "fragment"
    }
   },
   "source": [
    "### 股利形式"
   ]
  },
  {
   "cell_type": "markdown",
   "metadata": {
    "slideshow": {
     "slide_type": "fragment"
    }
   },
   "source": [
    "- 现金股利\n",
    "- 股票股利（红股），节约现金支出\n",
    "- 资产(property)股利，Wrigley's Gum sends a box of chewing gum\n",
    "- 负债股利"
   ]
  },
  {
   "cell_type": "markdown",
   "metadata": {
    "slideshow": {
     "slide_type": "slide"
    }
   },
   "source": [
    "### 四个重要时间"
   ]
  },
  {
   "cell_type": "markdown",
   "metadata": {
    "slideshow": {
     "slide_type": "fragment"
    }
   },
   "source": [
    "- 股利宣告日（Declaration Date），即董事会将股利支付情况（包括每股支付的股利、股权登记日期、股利支付日期）予以公告的日期。\n",
    "- 股权登记日，在这一天仍持有或买进该公司股票的投资者可以享有此次分红。\n",
    "- 除权日(或除息日，Exdividend Date)，股权登记日后的第一天，在这一天购入该公司股票的股东不再享有公司此次分红。\n",
    "- 支付日(Payment Date)，公司确定向股东发放股利的日期。"
   ]
  },
  {
   "cell_type": "markdown",
   "metadata": {
    "slideshow": {
     "slide_type": "fragment"
    }
   },
   "source": [
    "601933:永辉超市2019年年度权益分派实施公告\n",
    "\n",
    "http://data.eastmoney.com/notices/detail/601933/AN202006111384212368.html"
   ]
  },
  {
   "cell_type": "markdown",
   "metadata": {
    "slideshow": {
     "slide_type": "slide"
    }
   },
   "source": [
    "### 现金股利"
   ]
  },
  {
   "cell_type": "markdown",
   "metadata": {
    "slideshow": {
     "slide_type": "fragment"
    }
   },
   "source": [
    "#### 对股价的影响"
   ]
  },
  {
   "cell_type": "markdown",
   "metadata": {
    "slideshow": {
     "slide_type": "fragment"
    }
   },
   "source": [
    "> 如果公司决定支付股利，股价会怎样变化？"
   ]
  },
  {
   "cell_type": "markdown",
   "metadata": {
    "slideshow": {
     "slide_type": "slide"
    }
   },
   "source": [
    "【例】公司有10万股流通股，公司有现金15万，其他资产85万。如果公司支付每股1元的股利，股价会发生什么变化？"
   ]
  },
  {
   "cell_type": "markdown",
   "metadata": {
    "slideshow": {
     "slide_type": "fragment"
    }
   },
   "source": [
    "（1）股利发放前：\n",
    "    - 每股价值10元，公司总价值100万\n",
    "（2）股利发放后：\n",
    "    - 现金资产5万，公司总价值90万，每股9元。股东们获得了10万元现金。"
   ]
  },
  {
   "cell_type": "markdown",
   "metadata": {},
   "source": [
    "Dividend yield = Annual Dividend/ Stock Price"
   ]
  },
  {
   "cell_type": "markdown",
   "metadata": {},
   "source": [
    "Expected return on stock = Dividend Yield + Price Appreciation\n",
    "你是否希望公司支付股利？"
   ]
  },
  {
   "cell_type": "markdown",
   "metadata": {
    "slideshow": {
     "slide_type": "slide"
    }
   },
   "source": [
    "> 企业为什么要发放股利？"
   ]
  },
  {
   "cell_type": "markdown",
   "metadata": {
    "slideshow": {
     "slide_type": "fragment"
    }
   },
   "source": [
    "- 产业已经趋向成熟\n",
    "- 缺少投资机会\n",
    "- 向投资者回馈一些暂时富余的现金，增加投资者继续持有的信心"
   ]
  },
  {
   "cell_type": "markdown",
   "metadata": {
    "slideshow": {
     "slide_type": "fragment"
    }
   },
   "source": [
    "有的公司即使主营业务亏损，也会发放股利？？准备清算"
   ]
  },
  {
   "cell_type": "markdown",
   "metadata": {
    "slideshow": {
     "slide_type": "slide"
    }
   },
   "source": [
    "#### 股价估值"
   ]
  },
  {
   "cell_type": "markdown",
   "metadata": {
    "slideshow": {
     "slide_type": "fragment"
    }
   },
   "source": [
    "1. 长期持有的股价估值模型"
   ]
  },
  {
   "cell_type": "markdown",
   "metadata": {
    "slideshow": {
     "slide_type": "fragment"
    }
   },
   "source": [
    "$$V = \\Sigma _{t=1}^\\inf \\frac{D_t}{(1+K)^t}$$\n",
    "\n",
    "- V表示股票价值\n",
    "- K为投资人要求的必要报酬率\n",
    "- $D_t$表示第t期的股利"
   ]
  },
  {
   "cell_type": "markdown",
   "metadata": {
    "slideshow": {
     "slide_type": "slide"
    }
   },
   "source": [
    "2.短期持有的股价估值模型"
   ]
  },
  {
   "cell_type": "markdown",
   "metadata": {},
   "source": [
    "$$V = \\Sigma _{t=1}^n \\frac{D_t}{(1+K)^t} + \\frac{V_n}{(1+K)^n}$$\n",
    "\n",
    "- $V_n$表示未来出售股票时预计的价格\n",
    "- n 为预计持有股票的期数"
   ]
  },
  {
   "cell_type": "markdown",
   "metadata": {
    "slideshow": {
     "slide_type": "slide"
    }
   },
   "source": [
    "3.零增长股价估值模型\n",
    "\n",
    "- 公司每年分配固定的股利给股东，即预期的股利增长率为0，其支付过程相当于永续年金。"
   ]
  },
  {
   "cell_type": "markdown",
   "metadata": {
    "slideshow": {
     "slide_type": "fragment"
    }
   },
   "source": [
    "$$V = \\frac{D}{K}$$"
   ]
  },
  {
   "cell_type": "markdown",
   "metadata": {
    "slideshow": {
     "slide_type": "slide"
    }
   },
   "source": [
    "4.股利固定增长的股价估值模型 （Gordon dividend growth Model）\n",
    "- 对于多数公司而言，收益与股利呈不断增长趋势"
   ]
  },
  {
   "cell_type": "markdown",
   "metadata": {
    "slideshow": {
     "slide_type": "fragment"
    }
   },
   "source": [
    "$$V = \\frac{D_0(1+g)}{K-g} = \\frac{D_1}{K-g}$$\n",
    "\n",
    "- g为股利增长率\n",
    "- $D_0$表示第0期股利\n",
    "- $D_1$表示第1期股利"
   ]
  },
  {
   "cell_type": "markdown",
   "metadata": {
    "slideshow": {
     "slide_type": "fragment"
    }
   },
   "source": [
    "【例】如果某只股票明年会支付3元股利，然后每年会按照8%的增长率发放股利，假设预期回报率为12%。\n",
    "$$P = 3/(0.12-0.08) = 75$$\n",
    "如果某只股票刚刚支付过3元的股利，其他一样，先计算明年的分红为3*1.08 = 3.24\n",
    "$$P = 3.24/(0.12-0.08) = 81$$"
   ]
  },
  {
   "cell_type": "markdown",
   "metadata": {
    "slideshow": {
     "slide_type": "slide"
    }
   },
   "source": [
    "5.市盈率股价模型(PE ratio)\n",
    "\n",
    "$$市盈率 = \\frac{每股市价}{每股收益} = \\frac{P}{E}$$"
   ]
  },
  {
   "cell_type": "markdown",
   "metadata": {
    "slideshow": {
     "slide_type": "slide"
    }
   },
   "source": [
    "【例】某公司的每股收益为2元，行业类似股票的市盈率为8，则该公司的股票价值是多少？如果目前该公司的股票价格为10元，是否应该买入？"
   ]
  },
  {
   "cell_type": "markdown",
   "metadata": {
    "slideshow": {
     "slide_type": "fragment"
    }
   },
   "source": [
    "股票价值 $= 2\\times 8 = 16 \\gt 10$"
   ]
  },
  {
   "cell_type": "markdown",
   "metadata": {
    "slideshow": {
     "slide_type": "skip"
    }
   },
   "source": [
    "考虑公司的个股特殊性，才能决定是否买入。"
   ]
  },
  {
   "cell_type": "markdown",
   "metadata": {
    "slideshow": {
     "slide_type": "slide"
    }
   },
   "source": [
    "#### 现金股利的特点"
   ]
  },
  {
   "cell_type": "markdown",
   "metadata": {
    "slideshow": {
     "slide_type": "fragment"
    }
   },
   "source": [
    " - 盈利越多，股利越多；\n",
    " - 盈利波动较大，但是股利较为平稳（“sticky” dividends）。"
   ]
  },
  {
   "cell_type": "markdown",
   "metadata": {},
   "source": [
    "<img src=\"dividend trends.png\">"
   ]
  },
  {
   "cell_type": "markdown",
   "metadata": {
    "slideshow": {
     "slide_type": "slide"
    }
   },
   "source": [
    "Lintner, 1956\n",
    "\n",
    "- 公司存在长期的目标股利支付率\n",
    "\t- 成熟型公司股利支付率较高\n",
    "\t- 成长型公司低\n",
    "    \n",
    "- 公司管理层更关注股利的变化而不是股利的绝对水平\n",
    "\t- 管理层绝对不愿意降低股利的增长率，这使得管理层会保守的使用股利政策\n",
    "    \n",
    "- 股利变化与长期盈利趋势一致"
   ]
  },
  {
   "cell_type": "markdown",
   "metadata": {
    "slideshow": {
     "slide_type": "slide"
    }
   },
   "source": [
    "> 如果减少现金股利，会怎样？"
   ]
  },
  {
   "cell_type": "markdown",
   "metadata": {
    "slideshow": {
     "slide_type": "fragment"
    }
   },
   "source": [
    "当公司决定减少股利发放的时候，投资者会产生负面的反应。\n",
    "- 平均股价会下降4%（Li&Lie）， 平均股票市值减少3000万美金。\n",
    "\n",
    "如果公司确实需要减少股利，那么会减少很大幅度。\n",
    "- 平均减少40%\n",
    "- 下降幅度是增长幅度的6倍\n",
    "- 尽量使得减少股利的次数最小化\n",
    "\n",
    "但是，市场正在对股利减少持不太否定的态度（Li&Lie）。"
   ]
  },
  {
   "cell_type": "markdown",
   "metadata": {},
   "source": [
    "#### Payout Policy 理论"
   ]
  },
  {
   "cell_type": "markdown",
   "metadata": {},
   "source": [
    "股利政策是否会影响公司的价值？\n",
    "\n",
    "1.  无关。\n",
    "- M&M， Miller, Black & Scholes \n",
    "- 公司的价值基础是其资产，股利的来源是发行新股，股利只是移转价值，而不产生财富。\n",
    "\n",
    "2. 正向影响。\n",
    "- 投资者喜欢收入，避免委托代理问题\n",
    "\n",
    "4. 负向影响。\n",
    "- 股利纳税会毁掉价值"
   ]
  },
  {
   "cell_type": "markdown",
   "metadata": {},
   "source": [
    "资本利得税率与股利税率差异\n",
    "\n",
    "1．股票转让：个人在购买股票后，一部分人会进行股票转让，通过交易的差价来获取收益。而这种行为产生的收益属于“财产转让”的应税项目。因此国家规定，对个人转让上市公司股票取得的所得继续暂免征收个人所得税。\n",
    "\n",
    "2．股票分红：个人持有股票期间获得的股息红利收益，则属于《个人所得税中》的“利息、股息和红利”。根据相关规定，适用20%的税率扣缴个人所得税。另外需要说的是，个人取得企业债券利息，也需要按20%缴纳个人所得税。"
   ]
  },
  {
   "cell_type": "markdown",
   "metadata": {},
   "source": [
    "--|A(无现金股利)|B(高现金股利)\n",
    "--|--|--\n",
    "明年的价格|112.5|102.5\n",
    "现金股利|0|10\n",
    "税前总回报|112.5|112.5\n",
    "今天的股价|100|97.78\n",
    "资本利得|12.5|4.72\n",
    "税前回报率|12.5%|15.05%\n",
    "股利税（40%）|0|4\n",
    "资本利得税（20%）|2.5|0.94\n",
    "税后收益|10|9.78\n",
    "税后回报率|10%|10%"
   ]
  },
  {
   "cell_type": "markdown",
   "metadata": {},
   "source": [
    " - B公司可以通过不派送股利，使得股价从97.78上涨到100\n",
    " "
   ]
  },
  {
   "cell_type": "markdown",
   "metadata": {},
   "source": [
    "现实情况充满争议：\n",
    "\n",
    "- 数据非常难以获得\n",
    "- 投资者在计算股票价格时，面对分红的股票，一般会在不分红股票基础上增加14%-23%的税（Litzenberger & Ramaswamy，1982）\n",
    "- 增加4% （Miller $ Scholes, 1982）"
   ]
  },
  {
   "cell_type": "markdown",
   "metadata": {
    "slideshow": {
     "slide_type": "slide"
    }
   },
   "source": [
    "### 股票股利"
   ]
  },
  {
   "cell_type": "markdown",
   "metadata": {
    "slideshow": {
     "slide_type": "fragment"
    }
   },
   "source": [
    "【例】公司有1千万股流通股，价格是60元/股，派送股票股利3-for-2,之后公司有多少股流通股？新股的价格是多少？\n",
    "\n",
    "$1 \\times (3/2) = 1.5(千万)$\n",
    "\n",
    "$\\frac{60}{3/2} = 40（元/股）$"
   ]
  },
  {
   "cell_type": "markdown",
   "metadata": {
    "slideshow": {
     "slide_type": "slide"
    }
   },
   "source": [
    "公司的价值不变，现金不变"
   ]
  },
  {
   "cell_type": "markdown",
   "metadata": {
    "slideshow": {
     "slide_type": "fragment"
    }
   },
   "source": [
    "分配股票股利的原因：\n",
    "\n",
    "- 股票价格太高\n",
    "- 分拆(Spin-Offs)。公司分拆机构或部门，成立新公司并开始销售股票,母公司把新公司的股票作为股利发放给投资者。e.g. 3Com and Palm, Kraft and Altria Group, Travelers and Citigroup \n",
    "- Dividend Reinvestment Plans(DRIPs), 股东可以把股利重新投资到公司，以节省佣金。"
   ]
  },
  {
   "cell_type": "markdown",
   "metadata": {},
   "source": [
    "## 股票回购"
   ]
  },
  {
   "cell_type": "markdown",
   "metadata": {},
   "source": [
    "1990年以后，更加流行。\n",
    "公司有过量现金。公司从一些现有股东手中回购股票，支付现金。这些股票成为库存股票，没有公司的所有权。\n",
    "\n",
    "剩余的股东手里股票所占份额增大，相应的分享更多未来的收益和现金流。"
   ]
  },
  {
   "cell_type": "markdown",
   "metadata": {},
   "source": [
    "- 公司回购股票主要有两个原因，第一，累计了很多现金没有用处；第二，用债务替换权益，增加杠杆。(Lintner, 1956)"
   ]
  },
  {
   "cell_type": "markdown",
   "metadata": {},
   "source": [
    "### 回购形式"
   ]
  },
  {
   "cell_type": "markdown",
   "metadata": {},
   "source": [
    "- 公开市场（Open market），像市场上的投资人一样购买股票。\n",
    "- 投标报价（Tender offer），以比市场更高的价格向指定股东回购股票。\n",
    "- 荷式拍卖（Dutch auction）\n",
    "    - company gets bids from shareholders and forms a demand curve, picks the lowest price that will buy enough stock\n",
    "- 与大股东协商 \n",
    "    - ”Greenmail“, Blocks potential take-over bids"
   ]
  },
  {
   "cell_type": "markdown",
   "metadata": {
    "slideshow": {
     "slide_type": "slide"
    }
   },
   "source": [
    "### 微软案例"
   ]
  },
  {
   "cell_type": "markdown",
   "metadata": {
    "slideshow": {
     "slide_type": "fragment"
    }
   },
   "source": [
    "2004年，微软创下了持有最多现金的记录。公司有近400亿美金的现金，同时每月另有10亿现金流入。400亿美金在2004年能买到什么？\n",
    " - eBay（140）， Yahoo（100）， Amazon（65），还剩余100亿\n",
    " - 整个航空产业的2倍\n",
    " - 23个宇宙飞船\n",
    " - 美国所有的职业棒球、足球、篮球和曲棍球队"
   ]
  },
  {
   "cell_type": "markdown",
   "metadata": {
    "slideshow": {
     "slide_type": "fragment"
    }
   },
   "source": [
    " 2004年7月20日，微软宣布每股分红3元，在2004年12月2日发放。微软当时有100亿流通股，总的股利为320亿。"
   ]
  },
  {
   "cell_type": "markdown",
   "metadata": {
    "slideshow": {
     "slide_type": "fragment"
    }
   },
   "source": [
    "市场反应。7月20日，微软股价为28.32元。分红消息是收盘以后发布的。7月21日，微软的股价开盘为29.89元，涨幅5.5%。为什么市场会对这个分红政策产生正面的反应？"
   ]
  },
  {
   "cell_type": "markdown",
   "metadata": {
    "slideshow": {
     "slide_type": "fragment"
    }
   },
   "source": [
    "除权日——2004年11月15日。发生了什么？\n",
    "- 11月12日微软的收盘价为29.97元，11月15日开盘价为27.34元，下降了2.63元。"
   ]
  },
  {
   "cell_type": "markdown",
   "metadata": {},
   "source": [
    "2014年第一季度，微软的现金储备大概是830亿，股利政策：\n",
    "- “The board will continue to evaluate whether to pay a dividend on a quarterly basis and will base its decisions on the Company's potential future long-term capital requirements relating to research and development, investments and acquisitions, dilution management, and legal and business risks faced by the company.\"\n",
    "- 公司每个季度支付0.28元股利，共约20亿。\n",
    "- 公司经常回购股票。2013年支付400亿用于回购，流通股约83亿。"
   ]
  },
  {
   "cell_type": "markdown",
   "metadata": {
    "slideshow": {
     "slide_type": "slide"
    }
   },
   "source": [
    "### 与现金股利的比较"
   ]
  },
  {
   "cell_type": "markdown",
   "metadata": {
    "slideshow": {
     "slide_type": "fragment"
    }
   },
   "source": [
    "- 股利通常要求稳定，但是回购不需要\n",
    "- 有了回购这个途径，股利可以更加保守，一旦现金多余就回购股票。\n",
    "- 免税"
   ]
  },
  {
   "cell_type": "markdown",
   "metadata": {
    "slideshow": {
     "slide_type": "slide"
    }
   },
   "source": [
    "现金股利对市场有哪些影响？\n",
    "\n",
    "- 公司开始发放股利会使得市场价格平均上涨4%\n",
    "- 传递公司未来将有可持续的大量现金流的信息\n",
    "- “income stock”如果有机构投资者买入，表明公司的经营行为更加透明，受到更加密切的监视\n"
   ]
  },
  {
   "cell_type": "markdown",
   "metadata": {
    "slideshow": {
     "slide_type": "slide"
    }
   },
   "source": [
    "股票回购传递的信号\n",
    "\n",
    "- 可能公司积累的了大量现金，或者公司希望提高杠杆\n",
    "- 股价平均上涨2%\n",
    "- CEO觉得股票价值被低估\n",
    "- 降低委托代理问题（如果现金过多，CEO可能花费在自己身上，或进行一些不太明智的投资）\n",
    "    - decrease management's opportunity to be \"empire-builders\"\n",
    "    - regular dividends might encourage a more careful, value-oriented investment policy\n",
    "- 只有资本利得税"
   ]
  },
  {
   "cell_type": "markdown",
   "metadata": {
    "slideshow": {
     "slide_type": "slide"
    }
   },
   "source": [
    "## 几个比率"
   ]
  },
  {
   "cell_type": "markdown",
   "metadata": {
    "slideshow": {
     "slide_type": "fragment"
    }
   },
   "source": [
    "$Dividend Payout Ratio = \\frac{Dividends}{Earnings}$\n",
    "\n",
    "$Total Payout Ratio = \\frac{Dividends + Repurchase}{Earnings}$\n",
    "\n",
    "$Retention Rate = 1 - Payout Ratio$"
   ]
  },
  {
   "cell_type": "markdown",
   "metadata": {
    "slideshow": {
     "slide_type": "slide"
    }
   },
   "source": [
    "# 作业"
   ]
  },
  {
   "cell_type": "markdown",
   "metadata": {
    "slideshow": {
     "slide_type": "fragment"
    }
   },
   "source": [
    "1、找一则企业的关于股利发放的新闻，提供市场的反应，说明原因，做简要分析。\n",
    "\n",
    "2、我国资本市场的投资者是如何看待股利的？"
   ]
  }
 ],
 "metadata": {
  "celltoolbar": "Slideshow",
  "hide_input": false,
  "kernelspec": {
   "display_name": "Python 3",
   "language": "python",
   "name": "python3"
  },
  "language_info": {
   "codemirror_mode": {
    "name": "ipython",
    "version": 3
   },
   "file_extension": ".py",
   "mimetype": "text/x-python",
   "name": "python",
   "nbconvert_exporter": "python",
   "pygments_lexer": "ipython3",
   "version": "3.6.8"
  },
  "toc": {
   "base_numbering": 1,
   "nav_menu": {},
   "number_sections": true,
   "sideBar": true,
   "skip_h1_title": false,
   "title_cell": "Table of Contents",
   "title_sidebar": "Contents",
   "toc_cell": false,
   "toc_position": {
    "height": "calc(100% - 180px)",
    "left": "10px",
    "top": "150px",
    "width": "397.913px"
   },
   "toc_section_display": true,
   "toc_window_display": true
  }
 },
 "nbformat": 4,
 "nbformat_minor": 4
}
